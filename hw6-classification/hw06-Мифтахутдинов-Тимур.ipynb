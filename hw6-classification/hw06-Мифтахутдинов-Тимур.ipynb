{
 "cells": [
  {
   "cell_type": "markdown",
   "metadata": {
    "id": "Ffq6A2-ifzAA"
   },
   "source": [
    "# Интеллектуальный анализ данных – весна 2025\n",
    "# Домашнее задание 6: классификация текстов"
   ]
  },
  {
   "cell_type": "markdown",
   "source": [
    "Правила:\n",
    "\n",
    "\n",
    "\n",
    "*   Домашнее задание оценивается в 10 баллов.\n",
    "*   Можно использовать без доказательства любые результаты, встречавшиеся на лекциях или семинарах по курсу, если получение этих результатов не является вопросом задания.\n",
    "*  Можно использовать любые свободные источники с *обязательным* указанием ссылки на них.\n",
    "*  Плагиат не допускается. При обнаружении случаев списывания, 0 за работу выставляется всем участникам нарушения, даже если можно установить, кто у кого списал.\n",
    "*  Старайтесь сделать код как можно более оптимальным. В частности, будет штрафоваться использование циклов в тех случаях, когда операцию можно совершить при помощи инструментов библиотек, о которых рассказывалось в курсе.\n",
    "* Если в задании есть вопрос на рассуждение, то за отсутствие ответа на него балл за задание будет снижен вполовину."
   ],
   "metadata": {
    "id": "EPcxtekTA1Sm"
   }
  },
  {
   "cell_type": "markdown",
   "metadata": {
    "id": "itRtFtrOf0_b"
   },
   "source": [
    "В этом домашнем задании вам предстоит построить классификатор текстов.\n",
    "\n",
    "Будем предсказывать эмоциональную окраску твиттов о коронавирусе.\n",
    "\n"
   ]
  },
  {
   "cell_type": "code",
   "metadata": {
    "id": "tNGRVO7_g9mz",
    "ExecuteTime": {
     "end_time": "2025-05-16T20:13:26.339976Z",
     "start_time": "2025-05-16T20:13:26.337159Z"
    }
   },
   "source": [
    "\n",
    "import pandas as pd"
   ],
   "outputs": [],
   "execution_count": 4
  },
  {
   "cell_type": "code",
   "metadata": {
    "id": "zOy8iHJQg_Ss",
    "colab": {
     "base_uri": "https://localhost:8080/",
     "height": 348
    },
    "outputId": "6a32c325-1b9a-4895-ab22-5e985016da91",
    "ExecuteTime": {
     "end_time": "2025-05-16T20:13:37.529820Z",
     "start_time": "2025-05-16T20:13:37.433532Z"
    }
   },
   "source": [
    "df = pd.read_csv('tweets_coronavirus.csv', encoding='latin-1')\n",
    "df.sample(4)"
   ],
   "outputs": [
    {
     "data": {
      "text/plain": [
       "       UserName  ScreenName                   Location     TweetAt  \\\n",
       "14028     20831       65783  Nigeria/Ghana/Germany/USA  23-03-2020   \n",
       "17702     25330       70282             YourMom'sPants  25-03-2020   \n",
       "7270      12628       57580                     Qazvin  20-03-2020   \n",
       "20191     28418       73370       Sojourner BTW Realms  27-03-2020   \n",
       "\n",
       "                                           OriginalTweet           Sentiment  \n",
       "14028  American vodka company Tito's Vodka says it is...            Positive  \n",
       "17702  @97Vercetti @whitneywrightx You've seen the vi...  Extremely Negative  \n",
       "7270   Supermarkets are really taking advantage of th...            Positive  \n",
       "20191  Police have charged Margaret Cirko 35 with mak...  Extremely Negative  "
      ],
      "text/html": [
       "<div>\n",
       "<style scoped>\n",
       "    .dataframe tbody tr th:only-of-type {\n",
       "        vertical-align: middle;\n",
       "    }\n",
       "\n",
       "    .dataframe tbody tr th {\n",
       "        vertical-align: top;\n",
       "    }\n",
       "\n",
       "    .dataframe thead th {\n",
       "        text-align: right;\n",
       "    }\n",
       "</style>\n",
       "<table border=\"1\" class=\"dataframe\">\n",
       "  <thead>\n",
       "    <tr style=\"text-align: right;\">\n",
       "      <th></th>\n",
       "      <th>UserName</th>\n",
       "      <th>ScreenName</th>\n",
       "      <th>Location</th>\n",
       "      <th>TweetAt</th>\n",
       "      <th>OriginalTweet</th>\n",
       "      <th>Sentiment</th>\n",
       "    </tr>\n",
       "  </thead>\n",
       "  <tbody>\n",
       "    <tr>\n",
       "      <th>14028</th>\n",
       "      <td>20831</td>\n",
       "      <td>65783</td>\n",
       "      <td>Nigeria/Ghana/Germany/USA</td>\n",
       "      <td>23-03-2020</td>\n",
       "      <td>American vodka company Tito's Vodka says it is...</td>\n",
       "      <td>Positive</td>\n",
       "    </tr>\n",
       "    <tr>\n",
       "      <th>17702</th>\n",
       "      <td>25330</td>\n",
       "      <td>70282</td>\n",
       "      <td>YourMom'sPants</td>\n",
       "      <td>25-03-2020</td>\n",
       "      <td>@97Vercetti @whitneywrightx You've seen the vi...</td>\n",
       "      <td>Extremely Negative</td>\n",
       "    </tr>\n",
       "    <tr>\n",
       "      <th>7270</th>\n",
       "      <td>12628</td>\n",
       "      <td>57580</td>\n",
       "      <td>Qazvin</td>\n",
       "      <td>20-03-2020</td>\n",
       "      <td>Supermarkets are really taking advantage of th...</td>\n",
       "      <td>Positive</td>\n",
       "    </tr>\n",
       "    <tr>\n",
       "      <th>20191</th>\n",
       "      <td>28418</td>\n",
       "      <td>73370</td>\n",
       "      <td>Sojourner BTW Realms</td>\n",
       "      <td>27-03-2020</td>\n",
       "      <td>Police have charged Margaret Cirko 35 with mak...</td>\n",
       "      <td>Extremely Negative</td>\n",
       "    </tr>\n",
       "  </tbody>\n",
       "</table>\n",
       "</div>"
      ]
     },
     "execution_count": 6,
     "metadata": {},
     "output_type": "execute_result"
    }
   ],
   "execution_count": 6
  },
  {
   "cell_type": "markdown",
   "metadata": {
    "id": "m2OiDog9ZBlS"
   },
   "source": [
    "Для каждого твитта указано:\n",
    "\n",
    "\n",
    "*   UserName - имя пользователя, заменено на целое число для анонимности\n",
    "*   ScreenName - отображающееся имя пользователя, заменено на целое число для анонимности\n",
    "*   Location - местоположение\n",
    "*   TweetAt - дата создания твитта\n",
    "*   OriginalTweet - текст твитта\n",
    "*   Sentiment - эмоциональная окраска твитта (целевая переменная)\n",
    "\n"
   ]
  },
  {
   "cell_type": "markdown",
   "metadata": {
    "id": "pZTMseDkhTC7"
   },
   "source": [
    "## Задание 1 Подготовка (0.5 балла)"
   ]
  },
  {
   "cell_type": "markdown",
   "metadata": {
    "id": "Xx2-odn9hdAW"
   },
   "source": [
    "Целевая переменная находится в колонке `Sentiment`.  Преобразуйте ее таким образом, чтобы она стала бинарной: 1 - если у твитта положительная или очень положительная эмоциональная окраска и 0 - если отрицательная или очень отрицательная."
   ]
  },
  {
   "cell_type": "code",
   "metadata": {
    "id": "ZaQKQ1zEjP15",
    "ExecuteTime": {
     "end_time": "2025-05-16T20:13:40.662158Z",
     "start_time": "2025-05-16T20:13:40.649920Z"
    }
   },
   "source": [
    "df['Sentiment'] = df['Sentiment'].apply(lambda x: 1 if x in ['Positive', 'Extremely Positive'] else (\n",
    "    0 if x in ['Negative', 'Extremely Negative'] else None))\n",
    "df.head()"
   ],
   "outputs": [
    {
     "data": {
      "text/plain": [
       "   UserName  ScreenName                     Location     TweetAt  \\\n",
       "0      3800       48752                           UK  16-03-2020   \n",
       "1      3801       48753                    Vagabonds  16-03-2020   \n",
       "2      3802       48754                          NaN  16-03-2020   \n",
       "3      3803       48755                          NaN  16-03-2020   \n",
       "4      3804       48756  ÃÂT: 36.319708,-82.363649  16-03-2020   \n",
       "\n",
       "                                       OriginalTweet  Sentiment  \n",
       "0  advice Talk to your neighbours family to excha...          1  \n",
       "1  Coronavirus Australia: Woolworths to give elde...          1  \n",
       "2  My food stock is not the only one which is emp...          1  \n",
       "3  Me, ready to go at supermarket during the #COV...          0  \n",
       "4  As news of the regionÃÂs first confirmed COV...          1  "
      ],
      "text/html": [
       "<div>\n",
       "<style scoped>\n",
       "    .dataframe tbody tr th:only-of-type {\n",
       "        vertical-align: middle;\n",
       "    }\n",
       "\n",
       "    .dataframe tbody tr th {\n",
       "        vertical-align: top;\n",
       "    }\n",
       "\n",
       "    .dataframe thead th {\n",
       "        text-align: right;\n",
       "    }\n",
       "</style>\n",
       "<table border=\"1\" class=\"dataframe\">\n",
       "  <thead>\n",
       "    <tr style=\"text-align: right;\">\n",
       "      <th></th>\n",
       "      <th>UserName</th>\n",
       "      <th>ScreenName</th>\n",
       "      <th>Location</th>\n",
       "      <th>TweetAt</th>\n",
       "      <th>OriginalTweet</th>\n",
       "      <th>Sentiment</th>\n",
       "    </tr>\n",
       "  </thead>\n",
       "  <tbody>\n",
       "    <tr>\n",
       "      <th>0</th>\n",
       "      <td>3800</td>\n",
       "      <td>48752</td>\n",
       "      <td>UK</td>\n",
       "      <td>16-03-2020</td>\n",
       "      <td>advice Talk to your neighbours family to excha...</td>\n",
       "      <td>1</td>\n",
       "    </tr>\n",
       "    <tr>\n",
       "      <th>1</th>\n",
       "      <td>3801</td>\n",
       "      <td>48753</td>\n",
       "      <td>Vagabonds</td>\n",
       "      <td>16-03-2020</td>\n",
       "      <td>Coronavirus Australia: Woolworths to give elde...</td>\n",
       "      <td>1</td>\n",
       "    </tr>\n",
       "    <tr>\n",
       "      <th>2</th>\n",
       "      <td>3802</td>\n",
       "      <td>48754</td>\n",
       "      <td>NaN</td>\n",
       "      <td>16-03-2020</td>\n",
       "      <td>My food stock is not the only one which is emp...</td>\n",
       "      <td>1</td>\n",
       "    </tr>\n",
       "    <tr>\n",
       "      <th>3</th>\n",
       "      <td>3803</td>\n",
       "      <td>48755</td>\n",
       "      <td>NaN</td>\n",
       "      <td>16-03-2020</td>\n",
       "      <td>Me, ready to go at supermarket during the #COV...</td>\n",
       "      <td>0</td>\n",
       "    </tr>\n",
       "    <tr>\n",
       "      <th>4</th>\n",
       "      <td>3804</td>\n",
       "      <td>48756</td>\n",
       "      <td>ÃÂT: 36.319708,-82.363649</td>\n",
       "      <td>16-03-2020</td>\n",
       "      <td>As news of the regionÃÂs first confirmed COV...</td>\n",
       "      <td>1</td>\n",
       "    </tr>\n",
       "  </tbody>\n",
       "</table>\n",
       "</div>"
      ]
     },
     "execution_count": 7,
     "metadata": {},
     "output_type": "execute_result"
    }
   ],
   "execution_count": 7
  },
  {
   "cell_type": "markdown",
   "metadata": {
    "id": "pGq1FxJ-kBo5"
   },
   "source": [
    "Сбалансированы ли классы?"
   ]
  },
  {
   "cell_type": "code",
   "metadata": {
    "id": "a7gdNtxckK5V",
    "ExecuteTime": {
     "end_time": "2025-05-16T20:14:12.265838Z",
     "start_time": "2025-05-16T20:14:12.261703Z"
    }
   },
   "source": "df['Sentiment'].value_counts(normalize=1)",
   "outputs": [
    {
     "data": {
      "text/plain": [
       "Sentiment\n",
       "1    0.539589\n",
       "0    0.460411\n",
       "Name: proportion, dtype: float64"
      ]
     },
     "execution_count": 8,
     "metadata": {},
     "output_type": "execute_result"
    }
   ],
   "execution_count": 8
  },
  {
   "cell_type": "markdown",
   "metadata": {
    "id": "Ng8BCelMkWb0"
   },
   "source": "**Ответ:** Да"
  },
  {
   "cell_type": "markdown",
   "metadata": {
    "id": "qmSIBSsLk5Zz"
   },
   "source": [
    "Выведете на экран информацию о пропусках в данных. Если пропуски присутствуют заполните их строкой 'Unknown'."
   ]
  },
  {
   "cell_type": "code",
   "metadata": {
    "id": "UhUVRkR5kxa7",
    "ExecuteTime": {
     "end_time": "2025-05-16T20:14:44.292386Z",
     "start_time": "2025-05-16T20:14:44.284729Z"
    }
   },
   "source": "df.isnull().sum()",
   "outputs": [
    {
     "data": {
      "text/plain": [
       "UserName         0\n",
       "ScreenName       0\n",
       "Location         0\n",
       "TweetAt          0\n",
       "OriginalTweet    0\n",
       "Sentiment        0\n",
       "dtype: int64"
      ]
     },
     "execution_count": 10,
     "metadata": {},
     "output_type": "execute_result"
    }
   ],
   "execution_count": 10
  },
  {
   "metadata": {
    "ExecuteTime": {
     "end_time": "2025-05-16T20:15:04.655065Z",
     "start_time": "2025-05-16T20:15:04.644171Z"
    }
   },
   "cell_type": "code",
   "source": [
    "df = df.fillna('Unknown')\n",
    "df.head(5)"
   ],
   "outputs": [
    {
     "data": {
      "text/plain": [
       "   UserName  ScreenName                     Location     TweetAt  \\\n",
       "0      3800       48752                           UK  16-03-2020   \n",
       "1      3801       48753                    Vagabonds  16-03-2020   \n",
       "2      3802       48754                      Unknown  16-03-2020   \n",
       "3      3803       48755                      Unknown  16-03-2020   \n",
       "4      3804       48756  ÃÂT: 36.319708,-82.363649  16-03-2020   \n",
       "\n",
       "                                       OriginalTweet  Sentiment  \n",
       "0  advice Talk to your neighbours family to excha...          1  \n",
       "1  Coronavirus Australia: Woolworths to give elde...          1  \n",
       "2  My food stock is not the only one which is emp...          1  \n",
       "3  Me, ready to go at supermarket during the #COV...          0  \n",
       "4  As news of the regionÃÂs first confirmed COV...          1  "
      ],
      "text/html": [
       "<div>\n",
       "<style scoped>\n",
       "    .dataframe tbody tr th:only-of-type {\n",
       "        vertical-align: middle;\n",
       "    }\n",
       "\n",
       "    .dataframe tbody tr th {\n",
       "        vertical-align: top;\n",
       "    }\n",
       "\n",
       "    .dataframe thead th {\n",
       "        text-align: right;\n",
       "    }\n",
       "</style>\n",
       "<table border=\"1\" class=\"dataframe\">\n",
       "  <thead>\n",
       "    <tr style=\"text-align: right;\">\n",
       "      <th></th>\n",
       "      <th>UserName</th>\n",
       "      <th>ScreenName</th>\n",
       "      <th>Location</th>\n",
       "      <th>TweetAt</th>\n",
       "      <th>OriginalTweet</th>\n",
       "      <th>Sentiment</th>\n",
       "    </tr>\n",
       "  </thead>\n",
       "  <tbody>\n",
       "    <tr>\n",
       "      <th>0</th>\n",
       "      <td>3800</td>\n",
       "      <td>48752</td>\n",
       "      <td>UK</td>\n",
       "      <td>16-03-2020</td>\n",
       "      <td>advice Talk to your neighbours family to excha...</td>\n",
       "      <td>1</td>\n",
       "    </tr>\n",
       "    <tr>\n",
       "      <th>1</th>\n",
       "      <td>3801</td>\n",
       "      <td>48753</td>\n",
       "      <td>Vagabonds</td>\n",
       "      <td>16-03-2020</td>\n",
       "      <td>Coronavirus Australia: Woolworths to give elde...</td>\n",
       "      <td>1</td>\n",
       "    </tr>\n",
       "    <tr>\n",
       "      <th>2</th>\n",
       "      <td>3802</td>\n",
       "      <td>48754</td>\n",
       "      <td>Unknown</td>\n",
       "      <td>16-03-2020</td>\n",
       "      <td>My food stock is not the only one which is emp...</td>\n",
       "      <td>1</td>\n",
       "    </tr>\n",
       "    <tr>\n",
       "      <th>3</th>\n",
       "      <td>3803</td>\n",
       "      <td>48755</td>\n",
       "      <td>Unknown</td>\n",
       "      <td>16-03-2020</td>\n",
       "      <td>Me, ready to go at supermarket during the #COV...</td>\n",
       "      <td>0</td>\n",
       "    </tr>\n",
       "    <tr>\n",
       "      <th>4</th>\n",
       "      <td>3804</td>\n",
       "      <td>48756</td>\n",
       "      <td>ÃÂT: 36.319708,-82.363649</td>\n",
       "      <td>16-03-2020</td>\n",
       "      <td>As news of the regionÃÂs first confirmed COV...</td>\n",
       "      <td>1</td>\n",
       "    </tr>\n",
       "  </tbody>\n",
       "</table>\n",
       "</div>"
      ]
     },
     "execution_count": 12,
     "metadata": {},
     "output_type": "execute_result"
    }
   ],
   "execution_count": 12
  },
  {
   "cell_type": "markdown",
   "metadata": {
    "id": "1tzt27tfjUpq"
   },
   "source": [
    "Разделите данные на обучающие и тестовые в соотношении 7 : 3 и укажите `random_state=0`"
   ]
  },
  {
   "cell_type": "code",
   "metadata": {
    "id": "xSLOA9tIj9Z6",
    "ExecuteTime": {
     "end_time": "2025-05-16T20:15:31.329199Z",
     "start_time": "2025-05-16T20:15:30.783468Z"
    }
   },
   "source": [
    "from sklearn.model_selection import train_test_split\n",
    "\n",
    "train, test = train_test_split(df, test_size=0.3, random_state=0)"
   ],
   "outputs": [],
   "execution_count": 13
  },
  {
   "cell_type": "markdown",
   "metadata": {
    "id": "J9RrPUsJlL60"
   },
   "source": [
    "## Задание 2 Токенизация (3 балла)"
   ]
  },
  {
   "cell_type": "markdown",
   "metadata": {
    "id": "2Dz_b7Xopc_R"
   },
   "source": [
    "Постройте словарь на основе обучающей выборки и посчитайте количество встреч каждого токена с использованием самой простой токенизации - деления текстов по пробельным символам и приведения токенов в нижний регистр."
   ]
  },
  {
   "cell_type": "code",
   "metadata": {
    "id": "SFr67WOJphny",
    "ExecuteTime": {
     "end_time": "2025-05-16T20:17:54.501074Z",
     "start_time": "2025-05-16T20:17:54.349179Z"
    }
   },
   "source": [
    "from collections import defaultdict\n",
    "\n",
    "token_dict = defaultdict(int)\n",
    "\n",
    "for tweet in train['OriginalTweet']:\n",
    "    tokens = str(tweet).lower().split()\n",
    "    for token in tokens:\n",
    "        token_dict[token] += 1\n",
    "\n",
    "token_dict"
   ],
   "outputs": [
    {
     "data": {
      "text/plain": [
       "defaultdict(int,\n",
       "            {'why': 654,\n",
       "             'we': 3787,\n",
       "             'still': 763,\n",
       "             'want': 487,\n",
       "             'to': 23373,\n",
       "             'buy': 748,\n",
       "             'so': 1837,\n",
       "             'much': 482,\n",
       "             'stuff': 106,\n",
       "             'during': 1908,\n",
       "             'quarantine': 154,\n",
       "             'https://t.co/1m881cwfuv': 1,\n",
       "             '#shopping': 121,\n",
       "             '#covid_19': 1660,\n",
       "             '#online': 40,\n",
       "             'with': 4063,\n",
       "             'driving': 77,\n",
       "             'even': 682,\n",
       "             'more': 2008,\n",
       "             'usage': 22,\n",
       "             'a': 11737,\n",
       "             'strong': 93,\n",
       "             'strategy': 33,\n",
       "             'is': 7383,\n",
       "             'critical': 156,\n",
       "             'now': 1349,\n",
       "             'then': 435,\n",
       "             'ever': 179,\n",
       "             'luckily': 8,\n",
       "             'and': 14684,\n",
       "             'april': 163,\n",
       "             '16': 36,\n",
       "             'webinar': 65,\n",
       "             'will': 2726,\n",
       "             'dive': 10,\n",
       "             'into': 666,\n",
       "             'growing': 84,\n",
       "             'app': 52,\n",
       "             'awareness': 32,\n",
       "             'targeting': 9,\n",
       "             'high': 408,\n",
       "             'lifetime': 4,\n",
       "             'value': 79,\n",
       "             'users': 19,\n",
       "             '@canon_india': 16,\n",
       "             'i': 5340,\n",
       "             'am': 424,\n",
       "             'very': 418,\n",
       "             'happy..': 1,\n",
       "             'great': 409,\n",
       "             'job': 242,\n",
       "             'by': 2236,\n",
       "             '#canonforcommunity': 5,\n",
       "             'https://t.co/z0intks34x': 1,\n",
       "             'the': 26815,\n",
       "             'u.s': 8,\n",
       "             'national': 123,\n",
       "             'debt': 68,\n",
       "             'likely': 170,\n",
       "             'exceed': 14,\n",
       "             '$30': 7,\n",
       "             'trillion': 21,\n",
       "             'after': 886,\n",
       "             'unprecedented': 89,\n",
       "             'borrowing': 5,\n",
       "             'trump': 228,\n",
       "             'administration': 38,\n",
       "             'mnuchinã\\x82â\\x92s': 1,\n",
       "             'treasury': 3,\n",
       "             '#coronavirus': 8223,\n",
       "             'crisis.': 162,\n",
       "             'federal': 99,\n",
       "             'reserve': 17,\n",
       "             'could': 640,\n",
       "             'be': 3570,\n",
       "             'doing': 508,\n",
       "             'cushion': 9,\n",
       "             'blow.': 4,\n",
       "             'consumer': 2245,\n",
       "             'led': 67,\n",
       "             'economy': 244,\n",
       "             'on': 5452,\n",
       "             'brink.': 1,\n",
       "             'finally': 91,\n",
       "             'got': 407,\n",
       "             'grocery': 3469,\n",
       "             'store.': 348,\n",
       "             'honestly,': 8,\n",
       "             'what': 1541,\n",
       "             'are': 7050,\n",
       "             'you': 5467,\n",
       "             'people': 3175,\n",
       "             'all': 2808,\n",
       "             'toilet': 824,\n",
       "             'paper?': 24,\n",
       "             'https://t.co/jmobv8z0u0': 1,\n",
       "             'friends:': 3,\n",
       "             'catholic': 7,\n",
       "             \"university's\": 1,\n",
       "             'food': 3820,\n",
       "             'service': 305,\n",
       "             'workers': 1242,\n",
       "             'have': 3770,\n",
       "             'been': 1081,\n",
       "             'laid': 50,\n",
       "             'off': 472,\n",
       "             'without': 301,\n",
       "             'pay.': 14,\n",
       "             '(by': 4,\n",
       "             'contrast,': 2,\n",
       "             'georgetown': 2,\n",
       "             'has': 2304,\n",
       "             'set': 146,\n",
       "             'an': 1417,\n",
       "             'example': 46,\n",
       "             'consistent': 7,\n",
       "             'social': 615,\n",
       "             'teaching.)': 1,\n",
       "             'please': 1061,\n",
       "             'sign': 106,\n",
       "             'rt.': 4,\n",
       "             '@catholicpres': 1,\n",
       "             '@catholicuniv': 1,\n",
       "             'https://t.co/evqby035wf': 1,\n",
       "             \"it's\": 571,\n",
       "             'times': 372,\n",
       "             'like': 1550,\n",
       "             'these': 922,\n",
       "             'understand': 151,\n",
       "             'of': 13012,\n",
       "             'bidet.': 2,\n",
       "             '#europe': 14,\n",
       "             '#bidet': 6,\n",
       "             '#toiletpaper': 691,\n",
       "             'regulatory': 11,\n",
       "             'litigation': 3,\n",
       "             'risks': 38,\n",
       "             'financial': 233,\n",
       "             'services': 263,\n",
       "             'providers': 38,\n",
       "             'highlighted': 9,\n",
       "             'in': 11198,\n",
       "             'ballard': 2,\n",
       "             'spahr': 2,\n",
       "             'covid-19': 3173,\n",
       "             'crisis': 713,\n",
       "             'fallout': 21,\n",
       "             'https://t.co/riqrhxxeim': 1,\n",
       "             'via': 687,\n",
       "             '@@ballardspahrll': 1,\n",
       "             '#training': 2,\n",
       "             '#aca': 1,\n",
       "             \"don't\": 551,\n",
       "             'panic': 1495,\n",
       "             'buying.': 77,\n",
       "             \"i've\": 157,\n",
       "             'struggled': 10,\n",
       "             'get': 1759,\n",
       "             'basics': 19,\n",
       "             'as': 3694,\n",
       "             'emptying': 29,\n",
       "             'shelves.': 79,\n",
       "             'sensible': 20,\n",
       "             \"aren't\": 61,\n",
       "             'shortage,': 13,\n",
       "             'just': 1540,\n",
       "             'shop': 471,\n",
       "             'time': 1136,\n",
       "             'restock': 42,\n",
       "             'if': 2142,\n",
       "             \"we're\": 168,\n",
       "             'sensible,': 2,\n",
       "             'life': 244,\n",
       "             'slightly': 9,\n",
       "             'easier...take': 1,\n",
       "             'care': 401,\n",
       "             '#coronacrisis': 423,\n",
       "             'at': 4642,\n",
       "             'least': 222,\n",
       "             'essential': 496,\n",
       "             'allowed,': 2,\n",
       "             'can': 2202,\n",
       "             'go': 1245,\n",
       "             'store': 3155,\n",
       "             'bank.': 8,\n",
       "             'itã\\x82â\\x92s': 459,\n",
       "             'ridiculous': 56,\n",
       "             'that': 3741,\n",
       "             'actually': 149,\n",
       "             'act': 102,\n",
       "             'going': 1141,\n",
       "             'those': 789,\n",
       "             'types': 25,\n",
       "             'places': 82,\n",
       "             'ã\\x82â\\x93necessaryã\\x82â\\x94': 1,\n",
       "             'stopped': 51,\n",
       "             'police.': 3,\n",
       "             '?': 1320,\n",
       "             '#covid19': 2471,\n",
       "             '#quarantinelife': 112,\n",
       "             'queues': 54,\n",
       "             'outside': 151,\n",
       "             'supermarket': 3288,\n",
       "             'reserved': 10,\n",
       "             'for': 8566,\n",
       "             'elderly.': 8,\n",
       "             'britain,': 5,\n",
       "             'were': 566,\n",
       "             'better': 267,\n",
       "             'than': 891,\n",
       "             'this.': 92,\n",
       "             'https://t.co/0fmsmlgepm': 1,\n",
       "             'lt.': 3,\n",
       "             'gov.': 18,\n",
       "             'husted:': 1,\n",
       "             '\"come': 4,\n",
       "             'people.': 113,\n",
       "             'that.\"': 4,\n",
       "             'hearing': 43,\n",
       "             'fight': 330,\n",
       "             'over': 786,\n",
       "             'paper': 587,\n",
       "             'from': 3045,\n",
       "             'one': 1074,\n",
       "             'american': 93,\n",
       "             'irishman': 1,\n",
       "             'others': 300,\n",
       "             'out': 2026,\n",
       "             'there,': 13,\n",
       "             '#happystpatricksday!': 1,\n",
       "             'bought': 163,\n",
       "             'some': 1320,\n",
       "             'guiness': 1,\n",
       "             'corned': 2,\n",
       "             'beef': 32,\n",
       "             'cabbage': 2,\n",
       "             'other': 890,\n",
       "             'day': 521,\n",
       "             'since': 369,\n",
       "             'sadly': 19,\n",
       "             'cannot': 147,\n",
       "             'irish': 5,\n",
       "             'pub': 22,\n",
       "             'per': 246,\n",
       "             'tradition,': 2,\n",
       "             'thanks': 275,\n",
       "             'governor': 48,\n",
       "             'pritzker': 2,\n",
       "             'damn': 70,\n",
       "             '@ufcw': 7,\n",
       "             'says': 369,\n",
       "             '30': 79,\n",
       "             'died': 117,\n",
       "             '#coronavirus.': 228,\n",
       "             'union': 38,\n",
       "             'reps': 6,\n",
       "             'consumers': 307,\n",
       "             'help': 1282,\n",
       "             'protect': 340,\n",
       "             'workers/the': 1,\n",
       "             'public.': 20,\n",
       "             '-': 1429,\n",
       "             'wear': 182,\n",
       "             'mask': 330,\n",
       "             'when': 1343,\n",
       "             'shopping': 1621,\n",
       "             'touch': 75,\n",
       "             'few': 317,\n",
       "             'products': 427,\n",
       "             'possible': 143,\n",
       "             'throw': 27,\n",
       "             'used': 178,\n",
       "             'mask/gloves': 2,\n",
       "             'ã\\x82â\\x93major': 2,\n",
       "             'chains': 147,\n",
       "             'beginning': 83,\n",
       "             'report': 268,\n",
       "             'their': 1972,\n",
       "             'first': 475,\n",
       "             'coronavirus-related': 14,\n",
       "             'employee': 114,\n",
       "             'deaths,': 7,\n",
       "             'leading': 61,\n",
       "             'closures': 77,\n",
       "             'increasing': 121,\n",
       "             'anxiety': 90,\n",
       "             'among': 90,\n",
       "             'pandemic': 1026,\n",
       "             'intensifies': 8,\n",
       "             'across': 318,\n",
       "             'countryã\\x82â\\x94': 1,\n",
       "             'https://t.co/18v0pyhwb7': 1,\n",
       "             'my': 2445,\n",
       "             'story': 122,\n",
       "             'another': 246,\n",
       "             'aspect': 3,\n",
       "             'covid-19:': 134,\n",
       "             'banks': 244,\n",
       "             'face': 402,\n",
       "             'virus': 480,\n",
       "             'dilemma:': 3,\n",
       "             'demand,': 67,\n",
       "             'fewer': 28,\n",
       "             'volunteers': 68,\n",
       "             'https://t.co/ls0g86i8pu': 1,\n",
       "             'https://t.co/ofvkejff23': 1,\n",
       "             'walking': 68,\n",
       "             'around': 391,\n",
       "             'store,': 196,\n",
       "             'wearing': 190,\n",
       "             'was': 1384,\n",
       "             'weird.': 5,\n",
       "             'seeing': 214,\n",
       "             'mask,': 41,\n",
       "             'normal.': 28,\n",
       "             'sanitizing': 36,\n",
       "             'everything': 280,\n",
       "             'before': 433,\n",
       "             'putting': 166,\n",
       "             'it': 3150,\n",
       "             'away.': 26,\n",
       "             'weird': 37,\n",
       "             'time.': 158,\n",
       "             '#azliving': 2,\n",
       "             'https://t.co/xoodgd2ulx': 1,\n",
       "             'point': 117,\n",
       "             're': 328,\n",
       "             'stock': 1063,\n",
       "             'piling': 36,\n",
       "             'live': 236,\n",
       "             'lifestyles': 1,\n",
       "             'eat': 125,\n",
       "             'lot': 262,\n",
       "             'don': 251,\n",
       "             't': 648,\n",
       "             'carry': 56,\n",
       "             'but': 2159,\n",
       "             '70': 28,\n",
       "             'mother': 45,\n",
       "             'inherited': 1,\n",
       "             'wartime': 3,\n",
       "             'mentality': 2,\n",
       "             'doesn': 37,\n",
       "             'everyone': 600,\n",
       "             '14': 49,\n",
       "             'days': 325,\n",
       "             'worth': 105,\n",
       "             'larder': 1,\n",
       "             '1': 340,\n",
       "             '2': 582,\n",
       "             'bay': 24,\n",
       "             'view': 42,\n",
       "             'distillery': 29,\n",
       "             'bottling': 1,\n",
       "             'hand': 1382,\n",
       "             'sanitizer': 1064,\n",
       "             'area': 125,\n",
       "             'nonprofits': 7,\n",
       "             'https://t.co/ogxu5ojpxh': 1,\n",
       "             'https://t.co/8cs3skukmn': 1,\n",
       "             '#inspiration&gt;&gt;': 1,\n",
       "             '#regram': 1,\n",
       "             '#showcasing&gt;&gt;': 1,\n",
       "             '#artwork': 1,\n",
       "             '@karencantuq:': 1,\n",
       "             'title:': 2,\n",
       "             '\"ready': 1,\n",
       "             'wipe': 59,\n",
       "             'coronavirus\"': 3,\n",
       "             'caption:': 2,\n",
       "             '\"ps': 1,\n",
       "             'donã\\x82â\\x92t': 414,\n",
       "             'people\"': 2,\n",
       "             '#stayinsideyourhouse': 1,\n",
       "             'follow&gt;&gt;': 1,\n",
       "             '@authorship.me': 1,\n",
       "             'instagram:': 4,\n",
       "             'authorzine&gt;&gt;': 1,\n",
       "             'https://t.co/qo7tzfr0ih': 1,\n",
       "             'https://t.co/yu6kokta74': 1,\n",
       "             'spent': 43,\n",
       "             'trying': 307,\n",
       "             'book': 56,\n",
       "             'delivery': 686,\n",
       "             'any': 624,\n",
       "             'supermarket.': 204,\n",
       "             'there': 1219,\n",
       "             'no': 1898,\n",
       "             'availability': 30,\n",
       "             '.': 454,\n",
       "             'self': 210,\n",
       "             'isolate': 52,\n",
       "             '12': 78,\n",
       "             'weeks': 312,\n",
       "             'due': 1059,\n",
       "             'being': 827,\n",
       "             'immune': 59,\n",
       "             'supressed.': 1,\n",
       "             'how': 1850,\n",
       "             'supposed': 56,\n",
       "             'food?': 24,\n",
       "             'wonder': 67,\n",
       "             'stockpiled.': 4,\n",
       "             'help!': 15,\n",
       "             '#coronacrisisuk': 49,\n",
       "             '#stockpilinguk': 18,\n",
       "             '#food': 158,\n",
       "             'complete': 61,\n",
       "             'madness': 22,\n",
       "             '@borisjohnson': 78,\n",
       "             '@susannareid100': 6,\n",
       "             '@hollywills': 2,\n",
       "             '@piersmorgan': 51,\n",
       "             '@eamonnholmes': 1,\n",
       "             '@ruthieel': 1,\n",
       "             '@gmb': 15,\n",
       "             '@bbcnews': 17,\n",
       "             '@dailymailuk': 7,\n",
       "             '#londonlockdown': 10,\n",
       "             '#uklockdown': 22,\n",
       "             '#covid-19': 191,\n",
       "             'https://t.co/dexxnx7ox3': 1,\n",
       "             '\"forcing': 1,\n",
       "             '50': 83,\n",
       "             'governors': 14,\n",
       "             'compete': 12,\n",
       "             'lifesaving': 5,\n",
       "             'equipment': 86,\n",
       "             'ã\\x82â\\x97': 141,\n",
       "             'hospitals': 81,\n",
       "             'pay': 329,\n",
       "             'exorbitant': 34,\n",
       "             'prices': 3891,\n",
       "             'only': 851,\n",
       "             'makes': 114,\n",
       "             'matters': 10,\n",
       "             'worse.\"': 1,\n",
       "             'bill': 67,\n",
       "             'gates:': 2,\n",
       "             'hereã\\x82â\\x92s': 59,\n",
       "             'make': 811,\n",
       "             'up': 1987,\n",
       "             'lost': 143,\n",
       "             'https://t.co/yh3rytrevk': 1,\n",
       "             '#mondaymotivation': 16,\n",
       "             'iã\\x82â\\x92m': 414,\n",
       "             'privileged': 7,\n",
       "             'enough': 337,\n",
       "             'drive': 149,\n",
       "             'places.': 9,\n",
       "             'canã\\x82â\\x92t': 243,\n",
       "             'stop': 730,\n",
       "             'thinking': 98,\n",
       "             'about': 1726,\n",
       "             'easy': 74,\n",
       "             'access': 195,\n",
       "             'transport': 61,\n",
       "             'or': 2234,\n",
       "             'who': 1670,\n",
       "             'less': 212,\n",
       "             'able': 249,\n",
       "             'travel': 135,\n",
       "             'multiple': 43,\n",
       "             'shops.': 28,\n",
       "             'start': 201,\n",
       "             '#stoppanicbuying': 130,\n",
       "             '2/2': 8,\n",
       "             'especially': 161,\n",
       "             'whilst': 54,\n",
       "             'tesco': 51,\n",
       "             'own': 234,\n",
       "             'stores': 648,\n",
       "             'such': 269,\n",
       "             'leyton': 1,\n",
       "             'leytonstone': 2,\n",
       "             'frontline,': 4,\n",
       "             'dealing': 66,\n",
       "             'covid-19,': 311,\n",
       "             'restricted': 21,\n",
       "             'getting': 415,\n",
       "             'vulnerable': 275,\n",
       "             'difficult': 140,\n",
       "             'circumstances.': 8,\n",
       "             'every': 509,\n",
       "             'little': 208,\n",
       "             'helps!': 3,\n",
       "             'indeed!': 5,\n",
       "             'longer': 104,\n",
       "             'having': 257,\n",
       "             'cocktail': 3,\n",
       "             'parties,': 2,\n",
       "             'us': 1247,\n",
       "             'prefer': 15,\n",
       "             'stay': 895,\n",
       "             'sober': 2,\n",
       "             'find': 431,\n",
       "             'club': 24,\n",
       "             'soda': 4,\n",
       "             'local': 821,\n",
       "             'fourth': 6,\n",
       "             'emergency': 267,\n",
       "             'scammers': 113,\n",
       "             'using': 272,\n",
       "             'messages': 27,\n",
       "             'scam': 71,\n",
       "             'https://t.co/nzsthpcxre': 1,\n",
       "             'heaven': 3,\n",
       "             'hades': 1,\n",
       "             'judgement': 3,\n",
       "             'eternal': 2,\n",
       "             'hey': 89,\n",
       "             'wednesday': 42,\n",
       "             '3': 364,\n",
       "             'helping': 213,\n",
       "             'free': 467,\n",
       "             'add': 66,\n",
       "             'link': 90,\n",
       "             'tell': 139,\n",
       "             'me': 920,\n",
       "             'which': 504,\n",
       "             'poll': 8,\n",
       "             'll': 75,\n",
       "             'feature': 9,\n",
       "             'blog': 63,\n",
       "             '226k': 1,\n",
       "             'views': 11,\n",
       "             'tweet': 29,\n",
       "             '54k': 1,\n",
       "             'followers': 12,\n",
       "             'mom': 48,\n",
       "             'found': 169,\n",
       "             '#vintagetoiletpaper': 1,\n",
       "             'her': 377,\n",
       "             'basement.': 1,\n",
       "             'circa': 2,\n",
       "             '1987.': 1,\n",
       "             'blue': 19,\n",
       "             'peach.': 1,\n",
       "             'told': 216,\n",
       "             'list': 173,\n",
       "             '@ebay': 21,\n",
       "             'easy?': 1,\n",
       "             '???': 182,\n",
       "             'https://t.co/2tvpmsaxox': 1,\n",
       "             '@realdonaldtrump': 151,\n",
       "             'hear': 106,\n",
       "             'out,': 49,\n",
       "             'instead': 147,\n",
       "             'bailing': 6,\n",
       "             'corporations': 22,\n",
       "             'bailed': 2,\n",
       "             'everyoneã\\x82â\\x92s': 14,\n",
       "             'under': 239,\n",
       "             '200k?': 1,\n",
       "             'bet': 31,\n",
       "             'would': 730,\n",
       "             'billions': 15,\n",
       "             'aaannnddd': 1,\n",
       "             'rebuy': 1,\n",
       "             'more!': 17,\n",
       "             'plus!': 1,\n",
       "             'our': 2460,\n",
       "             'tax': 64,\n",
       "             'mon': 3,\n",
       "             'yourself': 147,\n",
       "             'washing': 93,\n",
       "             'your': 2784,\n",
       "             'hands': 303,\n",
       "             'often': 60,\n",
       "             'soap': 161,\n",
       "             'water': 194,\n",
       "             'use': 572,\n",
       "             '#wolverhampton': 1,\n",
       "             'https://t.co/e7ifbsqaxx': 1,\n",
       "             'two': 331,\n",
       "             'stories': 39,\n",
       "             'should': 875,\n",
       "             'mutually': 1,\n",
       "             'exclusive.': 1,\n",
       "             \"couldn't\": 36,\n",
       "             'alleviate': 10,\n",
       "             'vice': 5,\n",
       "             'versa?': 1,\n",
       "             'https://t.co/01oc3pig5b': 1,\n",
       "             'https://t.co/omjr2atzhp': 1,\n",
       "             \"here's\": 99,\n",
       "             'idea,': 5,\n",
       "             'become': 138,\n",
       "             'historian.': 1,\n",
       "             'write': 20,\n",
       "             'daily': 192,\n",
       "             'weekly': 60,\n",
       "             'diary': 7,\n",
       "             'grand': 12,\n",
       "             'children': 71,\n",
       "             'experiences.': 3,\n",
       "             'sacrifices,': 2,\n",
       "             'anecdotes,': 1,\n",
       "             'funny': 36,\n",
       "             'sad': 53,\n",
       "             'stories,': 1,\n",
       "             'recipes,': 3,\n",
       "             'photos': 38,\n",
       "             'newspaper': 3,\n",
       "             'clippings.': 1,\n",
       "             'imagine': 77,\n",
       "             'musings': 1,\n",
       "             '1.': 77,\n",
       "             'need': 1549,\n",
       "             'media': 155,\n",
       "             '#coronavirus...': 5,\n",
       "             'not': 2714,\n",
       "             'because': 902,\n",
       "             'news': 304,\n",
       "             'pictures': 26,\n",
       "             'take': 701,\n",
       "             'advantage': 174,\n",
       "             'of.': 11,\n",
       "             '#instafood': 1,\n",
       "             'making': 404,\n",
       "             'restaurant': 88,\n",
       "             'animal': 43,\n",
       "             'shelters': 9,\n",
       "             'left': 211,\n",
       "             'starving': 10,\n",
       "             'buying': 911,\n",
       "             'consider': 122,\n",
       "             'donating': 84,\n",
       "             'through': 427,\n",
       "             'facebook': 45,\n",
       "             '@theprojecttv': 1,\n",
       "             '@mrbenjaminlaw': 1,\n",
       "             'okay': 28,\n",
       "             'empty': 407,\n",
       "             'shelves': 709,\n",
       "             'goods': 243,\n",
       "             '&amp;': 2314,\n",
       "             'send': 112,\n",
       "             'them': 799,\n",
       "             'china!': 2,\n",
       "             'deprive': 3,\n",
       "             'medical': 303,\n",
       "             'supplies': 387,\n",
       "             'faulty': 3,\n",
       "             'covid': 1769,\n",
       "             'americans': 159,\n",
       "             'alarmed': 3,\n",
       "             'shelves,': 55,\n",
       "             'while': 638,\n",
       "             'suppliers': 55,\n",
       "             'retailers': 207,\n",
       "             'say': 350,\n",
       "             'they': 2309,\n",
       "             'struggling': 146,\n",
       "             'surging': 38,\n",
       "             'insist': 7,\n",
       "             'supply': 662,\n",
       "             'chain': 277,\n",
       "             'remains': 39,\n",
       "             '@nytimes': 26,\n",
       "             '#supplychain': 50,\n",
       "             'https://t.co/qro7avqbz5': 1,\n",
       "             'this': 4581,\n",
       "             'video': 152,\n",
       "             'seen': 258,\n",
       "             'many': 819,\n",
       "             'possible.': 26,\n",
       "             'nhs': 164,\n",
       "             'staff': 521,\n",
       "             'brave': 25,\n",
       "             'woman': 126,\n",
       "             'need,': 21,\n",
       "             'something': 203,\n",
       "             'needs': 276,\n",
       "             'done': 187,\n",
       "             'urgently.': 5,\n",
       "             'https://t.co/kh3kdyqd8t': 1,\n",
       "             'diageo': 1,\n",
       "             'hasnã\\x82â\\x92t': 13,\n",
       "             'clue.': 1,\n",
       "             'clear': 97,\n",
       "             'demonstraion': 1,\n",
       "             'remote': 31,\n",
       "             'consumer.#covid-19': 1,\n",
       "             'https://t.co/tfrsci5ysp': 1,\n",
       "             'picked': 18,\n",
       "             'hell': 54,\n",
       "             'back': 430,\n",
       "             'working': 594,\n",
       "             'rational,': 1,\n",
       "             'educated,': 2,\n",
       "             'respected': 13,\n",
       "             'members': 106,\n",
       "             'community': 243,\n",
       "             'non-perishable': 11,\n",
       "             'items': 439,\n",
       "             'bulk': 71,\n",
       "             'terrified': 12,\n",
       "             'facial': 5,\n",
       "             'expressions,': 1,\n",
       "             'eerie': 4,\n",
       "             'sense': 70,\n",
       "             'doomsday': 6,\n",
       "             'scenario': 11,\n",
       "             \"isn't\": 88,\n",
       "             'far': 148,\n",
       "             'off.': 23,\n",
       "             'new': 885,\n",
       "             'study': 38,\n",
       "             'finds': 27,\n",
       "             'may': 525,\n",
       "             'surfaces': 37,\n",
       "             'previously': 23,\n",
       "             'thought.': 12,\n",
       "             'down': 609,\n",
       "             'cleanser,': 1,\n",
       "             'wash': 212,\n",
       "             'frequently': 19,\n",
       "             'sanitizer.': 101,\n",
       "             'safe!': 23,\n",
       "             '#coronavirusupdate': 151,\n",
       "             '#flatteningthecurve': 2,\n",
       "             'https://t.co/ghbayd7t0g': 1,\n",
       "             'claim': 43,\n",
       "             'support': 477,\n",
       "             'doctors,': 59,\n",
       "             'nurses,': 72,\n",
       "             'responders': 66,\n",
       "             'guard,': 1,\n",
       "             'staff,': 101,\n",
       "             'truck': 105,\n",
       "             'drivers,': 86,\n",
       "             'else': 189,\n",
       "             'continue': 261,\n",
       "             'ignore': 23,\n",
       "             'pleas': 4,\n",
       "             'home!': 21,\n",
       "             '#stayhome': 229,\n",
       "             '#flattenthecurve': 47,\n",
       "             'shops': 279,\n",
       "             'markets': 211,\n",
       "             'malls': 22,\n",
       "             'restaurants': 131,\n",
       "             'remain': 150,\n",
       "             'closed': 202,\n",
       "             'different': 123,\n",
       "             'cities': 34,\n",
       "             'pakistan': 20,\n",
       "             'country': 321,\n",
       "             'imposed': 22,\n",
       "             'ban': 45,\n",
       "             'movement': 42,\n",
       "             'spread': 514,\n",
       "             'following': 149,\n",
       "             'show': 135,\n",
       "             'roads': 15,\n",
       "             'karachi': 1,\n",
       "             'islamabad': 1,\n",
       "             'bannu': 1,\n",
       "             'online': 1648,\n",
       "             '19': 2111,\n",
       "             'lockdown': 326,\n",
       "             'paddy': 1,\n",
       "             'drop': 235,\n",
       "             'closure': 30,\n",
       "             'inter': 3,\n",
       "             'state': 250,\n",
       "             'borders': 16,\n",
       "             'andhra': 1,\n",
       "             'pradesh': 2,\n",
       "             '#trumppressconference': 6,\n",
       "             'never': 303,\n",
       "             'maga': 2,\n",
       "             'rally': 14,\n",
       "             'amp': 859,\n",
       "             'stand': 74,\n",
       "             'talking': 69,\n",
       "             'russia': 92,\n",
       "             'mbs': 9,\n",
       "             'oil': 900,\n",
       "             'gas': 361,\n",
       "             'cuts': 65,\n",
       "             'wtf': 31,\n",
       "             'notice': 48,\n",
       "             'press': 42,\n",
       "             'release': 23,\n",
       "             'induced': 13,\n",
       "             '2020': 211,\n",
       "             'recession': 77,\n",
       "             'disrupt': 9,\n",
       "             'automotive': 6,\n",
       "             'electronics': 14,\n",
       "             'semiconductor': 2,\n",
       "             'infrastructure': 19,\n",
       "             'businesses': 342,\n",
       "             'lockdown:': 9,\n",
       "             'know': 641,\n",
       "             'options==&gt;': 1,\n",
       "             'https://t.co/qky8zps5oz': 1,\n",
       "             '#21dayslockdown': 12,\n",
       "             '#21daylockdown': 14,\n",
       "             '#21dayslockdownindia': 1,\n",
       "             '#coronavirusindia': 30,\n",
       "             '#coronaviruslockdown': 71,\n",
       "             'idiots': 46,\n",
       "             'president': 104,\n",
       "             'also': 635,\n",
       "             'needed': 148,\n",
       "             'direct': 75,\n",
       "             'business': 445,\n",
       "             'situation,': 20,\n",
       "             'hike': 58,\n",
       "             'required': 50,\n",
       "             'safeguarding': 3,\n",
       "             'transmission': 28,\n",
       "             'packet': 8,\n",
       "             'facemasks': 7,\n",
       "             '@': 111,\n",
       "             '150k,': 1,\n",
       "             'chloroquine': 19,\n",
       "             '100k': 5,\n",
       "             'right,': 9,\n",
       "             'see': 756,\n",
       "             'greedy': 60,\n",
       "             '*duckers*': 1,\n",
       "             'stockpiled': 10,\n",
       "             'all!': 12,\n",
       "             '#convid19uk': 23,\n",
       "             '#stopstockpiling': 44,\n",
       "             'call': 276,\n",
       "             'bollocks': 6,\n",
       "             'one.': 30,\n",
       "             'fair': 53,\n",
       "             'amount': 98,\n",
       "             'ppl': 120,\n",
       "             'buyin': 1,\n",
       "             'immediately': 51,\n",
       "             'years': 146,\n",
       "             'brexit': 18,\n",
       "             'n': 90,\n",
       "             'general': 94,\n",
       "             'skintness.': 1,\n",
       "             'its': 674,\n",
       "             'fucking': 128,\n",
       "             'buyers.': 7,\n",
       "             \"'accidental\": 3,\n",
       "             \"hoarders'\": 2,\n",
       "             'causing': 76,\n",
       "             'shortages': 146,\n",
       "             'https://t.co/q2nslsf6ke': 1,\n",
       "             'sent': 68,\n",
       "             '@updayuk': 5,\n",
       "             \"today's\": 33,\n",
       "             'news:': 26,\n",
       "             'pressured': 3,\n",
       "             'close': 250,\n",
       "             'affects': 19,\n",
       "             'beauty': 22,\n",
       "             'industry': 234,\n",
       "             'retail': 610,\n",
       "             'age': 60,\n",
       "             'coronavirus': 970,\n",
       "             'j.c.': 1,\n",
       "             'penney': 1,\n",
       "             'brings': 23,\n",
       "             'interactive': 6,\n",
       "             'style': 15,\n",
       "             'fitting': 7,\n",
       "             'rooms': 10,\n",
       "             '#coronapocalypse': 23,\n",
       "             '#ecommerce': 79,\n",
       "             '#retail': 180,\n",
       "             '#dtc': 3,\n",
       "             'https://t.co/rafj2l2ceq': 2,\n",
       "             'https://t.co/tgoar4fhl1': 1,\n",
       "             'love': 146,\n",
       "             'this!': 23,\n",
       "             'victoria': 5,\n",
       "             'helps': 50,\n",
       "             'production': 217,\n",
       "             '1st': 64,\n",
       "             'wwii,': 7,\n",
       "             'demand': 1345,\n",
       "             '|': 279,\n",
       "             'cbc': 17,\n",
       "             'https://t.co/75vb12pbap': 1,\n",
       "             '@cityoftoronto': 1,\n",
       "             '@johntory': 2,\n",
       "             'bank': 211,\n",
       "             'grateful': 64,\n",
       "             'donations': 84,\n",
       "             'sees': 44,\n",
       "             'spike': 46,\n",
       "             '#covid2019': 915,\n",
       "             \"doesn't\": 94,\n",
       "             'discriminate.': 1,\n",
       "             'society': 78,\n",
       "             'healthcare': 214,\n",
       "             'system': 132,\n",
       "             'does.': 2,\n",
       "             'minimum': 65,\n",
       "             'wage': 52,\n",
       "             'grocery-store/warehouse': 1,\n",
       "             'workers,': 280,\n",
       "             'migrant': 9,\n",
       "             'transported': 1,\n",
       "             'fields': 16,\n",
       "             'crowded': 51,\n",
       "             'trucks,': 2,\n",
       "             'living': 100,\n",
       "             'public': 386,\n",
       "             'housing': 65,\n",
       "             'w/mold': 1,\n",
       "             'causes': 48,\n",
       "             'asthma': 18,\n",
       "             'disproportionately': 6,\n",
       "             'risk': 397,\n",
       "             'waiting': 115,\n",
       "             'line': 291,\n",
       "             'order': 337,\n",
       "             'practice': 80,\n",
       "             'safe': 487,\n",
       "             '#socialdistancing': 427,\n",
       "             ',': 187,\n",
       "             'sure': 288,\n",
       "             'youre': 4,\n",
       "             'fit': 17,\n",
       "             'corpse': 3,\n",
       "             'between': 152,\n",
       "             'person': 207,\n",
       "             'front': 231,\n",
       "             'you.': 117,\n",
       "             'added': 39,\n",
       "             'accuracy,': 1,\n",
       "             'bring': 137,\n",
       "             'body': 26,\n",
       "             'went': 378,\n",
       "             'usual': 62,\n",
       "             'had': 660,\n",
       "             'door': 57,\n",
       "             '(100': 1,\n",
       "             'store)': 14,\n",
       "             'right': 455,\n",
       "             'needed.': 21,\n",
       "             'prevent': 152,\n",
       "             'it,': 87,\n",
       "             'venezuelan.': 1,\n",
       "             'article:': 10,\n",
       "             'health': 540,\n",
       "             'share': 254,\n",
       "             'begin': 31,\n",
       "             'recovery': 51,\n",
       "             'https://t.co/auxib44pom': 1,\n",
       "             'yesterday': 113,\n",
       "             'took': 95,\n",
       "             'n95': 47,\n",
       "             'masks,': 87,\n",
       "             'gloves': 216,\n",
       "             'revera': 1,\n",
       "             'mckenzie': 1,\n",
       "             'towne': 2,\n",
       "             'retirement': 8,\n",
       "             'brenda': 1,\n",
       "             'strafford': 1,\n",
       "             'foundation.': 2,\n",
       "             '#2019ncov': 4,\n",
       "             '#sarscov2': 22,\n",
       "             '#albertafireflood': 1,\n",
       "             '#restoration': 1,\n",
       "             '#cleaning': 6,\n",
       "             '#sanatizing': 1,\n",
       "             '#heretohelp': 2,\n",
       "             '#supportlocal': 10,\n",
       "             '#calgary': 4,\n",
       "             '#yyc': 7,\n",
       "             '#supportlocalbusiness': 5,\n",
       "             'loads': 28,\n",
       "             'emails': 37,\n",
       "             'companies': 393,\n",
       "             'last': 462,\n",
       "             'saying': 153,\n",
       "             'customers': 451,\n",
       "             '#sky': 2,\n",
       "             'true': 72,\n",
       "             'colours': 4,\n",
       "             'increase': 348,\n",
       "             '#noshame': 1,\n",
       "             '#nosense': 1,\n",
       "             '#cancelsky': 1,\n",
       "             'https://t.co/8mrz0kdmez': 1,\n",
       "             'marketers': 16,\n",
       "             'friends,': 10,\n",
       "             'good': 586,\n",
       "             'article': 112,\n",
       "             '@mckinsey': 22,\n",
       "             'regarding': 90,\n",
       "             'customer': 129,\n",
       "             'sentiment': 69,\n",
       "             'ready': 107,\n",
       "             'change': 174,\n",
       "             ...})"
      ]
     },
     "execution_count": 15,
     "metadata": {},
     "output_type": "execute_result"
    }
   ],
   "execution_count": 15
  },
  {
   "cell_type": "markdown",
   "metadata": {
    "id": "Pe0h2Jqkpnao"
   },
   "source": [
    "Какой размер словаря получился?"
   ]
  },
  {
   "cell_type": "code",
   "metadata": {
    "id": "umyENA7EpokD",
    "ExecuteTime": {
     "end_time": "2025-05-16T20:18:19.702125Z",
     "start_time": "2025-05-16T20:18:19.698674Z"
    }
   },
   "source": "len(token_dict)",
   "outputs": [
    {
     "data": {
      "text/plain": [
       "79755"
      ]
     },
     "execution_count": 16,
     "metadata": {},
     "output_type": "execute_result"
    }
   ],
   "execution_count": 16
  },
  {
   "cell_type": "markdown",
   "metadata": {
    "id": "0d2G1Z-Qpqkd"
   },
   "source": [
    "Выведите 10 самых популярных токенов с количеством встреч каждого из них. Объясните, почему именно эти токены в топе."
   ]
  },
  {
   "cell_type": "code",
   "metadata": {
    "id": "Impi32a_pssg",
    "ExecuteTime": {
     "end_time": "2025-05-17T12:07:23.329729Z",
     "start_time": "2025-05-17T12:07:23.303346Z"
    }
   },
   "source": [
    "sorted_tokens = dict(sorted(token_dict.items(), key=lambda item: item[1], reverse=True))\n",
    "print(list(sorted_tokens.items())[:10])"
   ],
   "outputs": [
    {
     "name": "stdout",
     "output_type": "stream",
     "text": [
      "[('the', 26815), ('to', 23373), ('and', 14684), ('of', 13012), ('a', 11737), ('in', 11198), ('for', 8566), ('#coronavirus', 8223), ('is', 7383), ('are', 7050)]\n"
     ]
    }
   ],
   "execution_count": 36
  },
  {
   "cell_type": "markdown",
   "metadata": {
    "id": "ZtuJCD0ApuFd"
   },
   "source": "**Ответ:** Самые популярные — союзы и артикли, которые используется вне зависимости от темы, почти в каждом сообщении, исключение — короновирус, потому что тема ключевая для 2020 года, соответственно, на эту тему много твитов"
  },
  {
   "cell_type": "markdown",
   "metadata": {
    "id": "T7DTQDkWsVYp"
   },
   "source": [
    "Удалите стоп-слова из словаря и выведите новый топ-10 токенов (и количество встреч) по популярности.  Что можно сказать  о нем?"
   ]
  },
  {
   "cell_type": "code",
   "metadata": {
    "id": "8csSAdgTsnFx",
    "ExecuteTime": {
     "end_time": "2025-05-17T12:14:57.275862Z",
     "start_time": "2025-05-17T12:14:57.256239Z"
    }
   },
   "source": [
    "\n",
    "from nltk.corpus import stopwords\n",
    "\n",
    "stop_words = set(stopwords.words('english'))\n",
    "\n",
    "filtered_tokens = {token: count for token, count in sorted_tokens.items()\n",
    "                   if token not in stop_words}\n",
    "\n",
    "print(list(filtered_tokens.items())[:10])"
   ],
   "outputs": [
    {
     "name": "stdout",
     "output_type": "stream",
     "text": [
      "[('#coronavirus', 8223), ('prices', 3891), ('food', 3820), ('grocery', 3469), ('supermarket', 3288), ('people', 3175), ('covid-19', 3173), ('store', 3155), ('#covid19', 2471), ('&amp;', 2314)]\n"
     ]
    }
   ],
   "execution_count": 42
  },
  {
   "cell_type": "markdown",
   "metadata": {
    "id": "LZH0x2Lzs-Dh"
   },
   "source": "**Ответ:** В словаре теперь тематические токены"
  },
  {
   "cell_type": "markdown",
   "metadata": {
    "id": "TKSGRyI-uor0"
   },
   "source": [
    "Также выведите 20 самых непопулярных слов (если самых непопулярных слов больше, выведите любые 20 из них) Почему эти токены непопулярны, требуется ли как-то дополнительно работать с ними?"
   ]
  },
  {
   "cell_type": "code",
   "metadata": {
    "id": "moArbwfvun9t",
    "ExecuteTime": {
     "end_time": "2025-05-17T12:17:06.179961Z",
     "start_time": "2025-05-17T12:17:06.168983Z"
    }
   },
   "source": "print(list(filtered_tokens.items())[-20:])",
   "outputs": [
    {
     "name": "stdout",
     "output_type": "stream",
     "text": [
      "[('skellig', 1), ('coast!', 1), ('closer!)', 1), ('@skelligsix18', 1), ('#skelligcoast2kms', 1), ('#southkerry', 1), ('https://t.co/zjcl195vqs', 1), ('@srinivasiyc', 1), ('https://t.co/iaek4fwsgz', 1), ('premiership', 1), ('non-playing', 1), ('subsidise', 1), ('playersã\\x82â\\x92', 1), ('renewing', 1), ('wage!', 1), ('flew', 1), ('nothing...', 1), ('@torontopearson', 1), ('@680news', 1), ('https://t.co/7j2y3rsld9', 1)]\n"
     ]
    }
   ],
   "execution_count": 43
  },
  {
   "cell_type": "markdown",
   "metadata": {
    "id": "uRp3J1gQunlR"
   },
   "source": [
    "**Ответ:** Ссылки, придуманные слова и непопулярные теги, которые используются частными пользователями\n",
    "\n"
   ]
  },
  {
   "cell_type": "markdown",
   "metadata": {
    "id": "wx9LQOSPzvjV"
   },
   "source": [
    "Теперь воспользуемся токенайзером получше - TweetTokenizer из библиотеки nltk. Примените его и посмотрите на топ-10 популярных слов. Чем он отличается от топа, который получался раньше? Почему?"
   ]
  },
  {
   "cell_type": "code",
   "metadata": {
    "id": "2G1UkyVxzvFY",
    "ExecuteTime": {
     "end_time": "2025-05-17T12:36:41.440139Z",
     "start_time": "2025-05-17T12:36:39.296790Z"
    }
   },
   "source": [
    "from collections import Counter\n",
    "from nltk.tokenize import TweetTokenizer\n",
    "\n",
    "tk = TweetTokenizer()\n",
    "token_counter = Counter()\n",
    "\n",
    "for tweet in train['OriginalTweet']:\n",
    "    tokens = tk.tokenize(tweet)\n",
    "    token_counter.update(tokens)\n",
    "\n",
    "print(token_counter.most_common(10))"
   ],
   "outputs": [
    {
     "name": "stdout",
     "output_type": "stream",
     "text": [
      "[('the', 24337), ('.', 24118), ('to', 22933), (',', 17571), ('and', 14354), ('of', 12904), ('a', 11045), ('in', 10573), ('?', 9524), ('for', 8228)]\n"
     ]
    }
   ],
   "execution_count": 58
  },
  {
   "cell_type": "markdown",
   "metadata": {
    "id": "50eVUnJN1Zxl"
   },
   "source": "**Ответ:** В целом, похоже на то, что получилось в первом случае, но чуть другой порядок и появились знаки препинания"
  },
  {
   "cell_type": "markdown",
   "metadata": {
    "id": "1gqQgiMs11bs"
   },
   "source": [
    "Удалите из словаря стоп-слова и пунктуацию, посмотрите на новый топ-10 слов с количеством встреч, есть ли теперь в нем что-то не похожее на слова?"
   ]
  },
  {
   "cell_type": "code",
   "metadata": {
    "id": "0yHWdFrp0Mup",
    "ExecuteTime": {
     "end_time": "2025-05-17T12:36:44.678654Z",
     "start_time": "2025-05-17T12:36:44.644651Z"
    }
   },
   "source": [
    "from string import punctuation\n",
    "\n",
    "filtered_tokens = {token: count for token, count in\n",
    "                   sorted(token_counter.items(), key=lambda item: item[1], reverse=True)\n",
    "                   if token not in punctuation and token not in stop_words}\n",
    "\n",
    "print(list(filtered_tokens.items())[:10])"
   ],
   "outputs": [
    {
     "name": "stdout",
     "output_type": "stream",
     "text": [
      "[('Â', 7415), ('\\x82', 7311), ('19', 7167), ('#coronavirus', 7143), ('I', 5235), ('\\x92', 4372), ('prices', 4281), ('COVID', 4218), ('food', 3795), ('store', 3691)]\n"
     ]
    }
   ],
   "execution_count": 59
  },
  {
   "cell_type": "markdown",
   "metadata": {
    "id": "8ZJqXELP_Yxy"
   },
   "source": "**Ответ:** Есть символы для переноса строки и какие-то кодировки"
  },
  {
   "cell_type": "markdown",
   "metadata": {
    "id": "rzXjMsSB_kXB"
   },
   "source": [
    "Скорее всего в некоторых топах были неотображаемые символы или отдельные буквы не латинского алфавита. Уберем их: удалите из словаря токены из одного символа, позиция которого в таблице Unicode 128 и более (`ord(x) >= 128`)\n",
    "\n",
    "Выведите топ-10 самых популярных и топ-20 непопулярных слов. Чем полученные топы отличаются от итоговых топов, полученных при использовании токенизации по пробелам? Что теперь лучше, а что хуже?"
   ]
  },
  {
   "cell_type": "code",
   "metadata": {
    "id": "1695hlkS_1-J",
    "ExecuteTime": {
     "end_time": "2025-05-17T12:36:51.580671Z",
     "start_time": "2025-05-17T12:36:51.558694Z"
    }
   },
   "source": [
    "filtered_tokens = {token: count for token, count in filtered_tokens.items() if\n",
    "                   not (len(token) == 1 and ord(token) >= 128)}\n",
    "\n",
    "print(list(filtered_tokens.items())[:10])\n",
    "print(list(filtered_tokens.items())[-20:])"
   ],
   "outputs": [
    {
     "name": "stdout",
     "output_type": "stream",
     "text": [
      "[('19', 7167), ('#coronavirus', 7143), ('I', 5235), ('prices', 4281), ('COVID', 4218), ('food', 3795), ('store', 3691), ('supermarket', 3373), ('grocery', 3083), ('people', 3047)]\n",
      "[('ruins', 1), ('now.When', 1), ('milion', 1), ('Skellig', 1), ('@SkelligSix18', 1), ('#SkelligCoast2kms', 1), ('#SouthKerry', 1), ('https://t.co/zJcL195VQS', 1), ('@srinivasiyc', 1), ('https://t.co/IAEK4fWsgz', 1), ('Vile', 1), ('premiership', 1), ('non-playing', 1), ('subsidise', 1), ('playersÃ', 1), ('renewing', 1), ('flew', 1), ('@TorontoPearson', 1), ('@680NEWS', 1), ('https://t.co/7j2Y3rSld9', 1)]\n"
     ]
    }
   ],
   "execution_count": 60
  },
  {
   "cell_type": "markdown",
   "metadata": {
    "id": "KzjHAKIlDvc6"
   },
   "source": "**Ответ:** В топ-10 все в порядке, в топ-20(с конца) много ссылок и непопулярных тегов"
  },
  {
   "cell_type": "markdown",
   "metadata": {
    "id": "EcDf9_6HB2zm"
   },
   "source": [
    "Выведите топ-10 популярных хештегов (токены, первые символы которых - #) с количеством встреч. Что можно сказать о них?"
   ]
  },
  {
   "cell_type": "code",
   "metadata": {
    "id": "zk4fygCUBw3l",
    "ExecuteTime": {
     "end_time": "2025-05-17T12:37:39.029045Z",
     "start_time": "2025-05-17T12:37:39.017809Z"
    }
   },
   "source": "print(list({token: count for token, count in filtered_tokens.items() if token.startswith('#')}.items())[:10])",
   "outputs": [
    {
     "name": "stdout",
     "output_type": "stream",
     "text": [
      "[('#coronavirus', 7143), ('#COVID19', 1844), ('#Covid_19', 1463), ('#Coronavirus', 1281), ('#COVID2019', 927), ('#toiletpaper', 657), ('#covid19', 568), ('#COVID', 542), ('#CoronaCrisis', 426), ('#CoronaVirus', 351)]\n"
     ]
    }
   ],
   "execution_count": 63
  },
  {
   "cell_type": "markdown",
   "metadata": {
    "id": "-6NeNWBkDxM7"
   },
   "source": "**Ответ:** Большинство связано с ковидом, потому что он был на хайпе в 20 году"
  },
  {
   "cell_type": "markdown",
   "metadata": {
    "id": "LLYBg7caD5GA"
   },
   "source": [
    "То же самое проделайте для ссылок на сайт https://t.co Сравнима ли популярность ссылок с популярностью хештегов? Будет ли информация о ссылке на конкретную страницу полезна?"
   ]
  },
  {
   "cell_type": "code",
   "metadata": {
    "id": "MXbm1oeaCK9S",
    "ExecuteTime": {
     "end_time": "2025-05-17T12:39:14.914338Z",
     "start_time": "2025-05-17T12:39:14.904297Z"
    }
   },
   "source": "print(list({token: count for token, count in filtered_tokens.items() if token.startswith('https://t.co')}.items())[:10])",
   "outputs": [
    {
     "name": "stdout",
     "output_type": "stream",
     "text": [
      "[('https://t.co/oXA7SWtoNd', 5), ('https://t.co/gP3EusapL8', 4), ('https://t.co/DefTruI1PfÃ\\x82Â', 3), ('https://t.co/WrLHYzIzAA', 3), ('https://t.co/kuwIpF1KQW', 3), ('https://t.co/zjNRx6dKKN', 3), ('https://t.co/3GBBDpdjat', 3), ('https://t.co/e2ZNXajPre', 3), ('https://t.co/CATKegAyOY', 3), ('https://t.co/G63RP042HO', 3)]\n"
     ]
    }
   ],
   "execution_count": 64
  },
  {
   "cell_type": "markdown",
   "metadata": {
    "id": "at6lRYZ8A07N"
   },
   "source": "**Ответ:** Упоминание самой популярной ссылки — 5, что говорит о том, что они гораздо менее популярны и информации о самых популярных не несет полезной нагрузки"
  },
  {
   "cell_type": "markdown",
   "metadata": {
    "id": "IOGdUU1kBU1D"
   },
   "source": [
    "Используем опыт предыдущих экспериментов и напишем собственный токенайзер, улучшив TweetTokenizer. Функция tokenize должна:\n",
    "\n",
    "\n",
    "\n",
    "*   Привести текст в нижний регистр\n",
    "*   Применить TweetTokenizer для  выделения токенов\n",
    "*   Удалить стоп-слова, пунктуацию, токены из одного символа с позицией в таблице Unicode 128 и более,  ссылки на t.co\n",
    "\n"
   ]
  },
  {
   "cell_type": "code",
   "metadata": {
    "id": "ctEsB6xkFrrK",
    "ExecuteTime": {
     "end_time": "2025-05-17T12:44:40.067257Z",
     "start_time": "2025-05-17T12:44:40.060992Z"
    }
   },
   "source": [
    "def custom_tokenizer(text):\n",
    "    filtered_tokens = []\n",
    "    text = text.lower()\n",
    "    tokens = tk.tokenize(text)\n",
    "\n",
    "    for token in tokens:\n",
    "        if not (token in stop_words or token in punctuation or (len(token) == 1 and ord(token) >= 128) or token.startswith('https://t.co')):\n",
    "            filtered_tokens.append(token)\n",
    "\n",
    "    return filtered_tokens\n"
   ],
   "outputs": [],
   "execution_count": 67
  },
  {
   "cell_type": "code",
   "metadata": {
    "colab": {
     "base_uri": "https://localhost:8080/"
    },
    "id": "XwbgtYkJGYym",
    "outputId": "5808765b-3448-45e6-ccc1-7cd65f6371ef",
    "ExecuteTime": {
     "end_time": "2025-05-17T12:44:40.635108Z",
     "start_time": "2025-05-17T12:44:40.631143Z"
    }
   },
   "source": [
    "custom_tokenizer('This is sample text!!!! @Sample_text I, \\x92\\x92 https://t.co/sample  #sampletext')"
   ],
   "outputs": [
    {
     "data": {
      "text/plain": [
       "['sample', 'text', '@sample_text', '#sampletext']"
      ]
     },
     "execution_count": 68,
     "metadata": {},
     "output_type": "execute_result"
    }
   ],
   "execution_count": 68
  },
  {
   "cell_type": "markdown",
   "metadata": {
    "id": "wURVABmXHk97"
   },
   "source": [
    "## Задание 3 Векторизация текстов (2 балла)"
   ]
  },
  {
   "cell_type": "markdown",
   "metadata": {
    "id": "H44iXkoHIQfN"
   },
   "source": [
    "Обучите CountVectorizer с использованием custom_tokenizer в качестве токенайзера. Как размер полученного словаря соотносится с размером изначального словаря из начала задания 2?"
   ]
  },
  {
   "cell_type": "code",
   "source": [
    "from sklearn.feature_extraction.text import CountVectorizer\n",
    "\n",
    "cv = CountVectorizer(tokenizer=custom_tokenizer)\n",
    "cv.fit(train['OriginalTweet'])\n",
    "\n",
    "print(len(cv.vocabulary_))"
   ],
   "metadata": {
    "colab": {
     "base_uri": "https://localhost:8080/"
    },
    "id": "gHn_limQl3BI",
    "outputId": "8e9c1826-319f-4376-f06e-c30c2eb82648",
    "ExecuteTime": {
     "end_time": "2025-05-17T12:46:05.284520Z",
     "start_time": "2025-05-17T12:46:02.945727Z"
    }
   },
   "outputs": [
    {
     "name": "stderr",
     "output_type": "stream",
     "text": [
      "/opt/miniconda3/envs/omo/lib/python3.8/site-packages/sklearn/feature_extraction/text.py:525: UserWarning: The parameter 'token_pattern' will not be used since 'tokenizer' is not None'\n",
      "  warnings.warn(\n"
     ]
    },
    {
     "name": "stdout",
     "output_type": "stream",
     "text": [
      "45290\n"
     ]
    }
   ],
   "execution_count": 69
  },
  {
   "cell_type": "markdown",
   "metadata": {
    "id": "gsfmaSGoItUm"
   },
   "source": "**Ответ:** Словарь уменьшился"
  },
  {
   "cell_type": "markdown",
   "metadata": {
    "id": "lm6UHNmqKZT0"
   },
   "source": [
    "Посмотрим на какой-нибудь конкретный твитт:"
   ]
  },
  {
   "cell_type": "code",
   "metadata": {
    "id": "aJVjjfqOJh8m",
    "ExecuteTime": {
     "end_time": "2025-05-17T12:46:54.908691Z",
     "start_time": "2025-05-17T12:46:54.904333Z"
    }
   },
   "source": [
    "ind = 9023\n",
    "train.iloc[ind]['OriginalTweet'], train.iloc[ind]['Sentiment']"
   ],
   "outputs": [
    {
     "data": {
      "text/plain": [
       "('Nice one @SkyNews lets not panic but show ppl in france queueing for food!!! #CoronavirusOutbreak #COVID2019 brainless!! Ffs',\n",
       " 0)"
      ]
     },
     "execution_count": 70,
     "metadata": {},
     "output_type": "execute_result"
    }
   ],
   "execution_count": 70
  },
  {
   "cell_type": "markdown",
   "metadata": {
    "id": "PBMIHBI5KdaS"
   },
   "source": [
    "Автор твитта не доволен ситуацией с едой во Франции и текст имеет резко негативную окраску.\n",
    "\n",
    "Примените обученный CountVectorizer для векторизации данного текста, и попытайтесь определить самый важный токен и самый неважный токен (токен, компонента которого в векторе максимальна/минимальна, без учета 0). Хорошо ли они определились, почему?"
   ]
  },
  {
   "cell_type": "code",
   "metadata": {
    "id": "7NcAllaEKsJj",
    "ExecuteTime": {
     "end_time": "2025-05-17T12:55:49.241301Z",
     "start_time": "2025-05-17T12:55:49.216491Z"
    }
   },
   "source": [
    "X = cv.transform([train.iloc[ind]['OriginalTweet']])\n",
    "vector_df = pd.DataFrame(X.toarray(), columns=cv.get_feature_names_out())\n",
    "vector_df.loc[:, (vector_df != 0).any(axis=0)]"
   ],
   "outputs": [
    {
     "data": {
      "text/plain": [
       "   #coronavirusoutbreak  #covid2019  @skynews  brainless  ffs  food  france  \\\n",
       "0                     1           1         1          1    1     1       1   \n",
       "\n",
       "   lets  nice  one  panic  ppl  queueing  show  \n",
       "0     1     1    1      1    1         1     1  "
      ],
      "text/html": [
       "<div>\n",
       "<style scoped>\n",
       "    .dataframe tbody tr th:only-of-type {\n",
       "        vertical-align: middle;\n",
       "    }\n",
       "\n",
       "    .dataframe tbody tr th {\n",
       "        vertical-align: top;\n",
       "    }\n",
       "\n",
       "    .dataframe thead th {\n",
       "        text-align: right;\n",
       "    }\n",
       "</style>\n",
       "<table border=\"1\" class=\"dataframe\">\n",
       "  <thead>\n",
       "    <tr style=\"text-align: right;\">\n",
       "      <th></th>\n",
       "      <th>#coronavirusoutbreak</th>\n",
       "      <th>#covid2019</th>\n",
       "      <th>@skynews</th>\n",
       "      <th>brainless</th>\n",
       "      <th>ffs</th>\n",
       "      <th>food</th>\n",
       "      <th>france</th>\n",
       "      <th>lets</th>\n",
       "      <th>nice</th>\n",
       "      <th>one</th>\n",
       "      <th>panic</th>\n",
       "      <th>ppl</th>\n",
       "      <th>queueing</th>\n",
       "      <th>show</th>\n",
       "    </tr>\n",
       "  </thead>\n",
       "  <tbody>\n",
       "    <tr>\n",
       "      <th>0</th>\n",
       "      <td>1</td>\n",
       "      <td>1</td>\n",
       "      <td>1</td>\n",
       "      <td>1</td>\n",
       "      <td>1</td>\n",
       "      <td>1</td>\n",
       "      <td>1</td>\n",
       "      <td>1</td>\n",
       "      <td>1</td>\n",
       "      <td>1</td>\n",
       "      <td>1</td>\n",
       "      <td>1</td>\n",
       "      <td>1</td>\n",
       "      <td>1</td>\n",
       "    </tr>\n",
       "  </tbody>\n",
       "</table>\n",
       "</div>"
      ]
     },
     "execution_count": 74,
     "metadata": {},
     "output_type": "execute_result"
    }
   ],
   "execution_count": 74
  },
  {
   "cell_type": "markdown",
   "metadata": {
    "id": "TpEsl1k_NF4T"
   },
   "source": "**Ответ:** Все ненулевые векторы равны единице, по сути ничего не определилось"
  },
  {
   "cell_type": "markdown",
   "metadata": {
    "id": "w4DsEQpLO3J6"
   },
   "source": [
    "Теперь примените TfidfVectorizer и  определите самый важный/неважный токены. Хорошо ли определились, почему?"
   ]
  },
  {
   "cell_type": "code",
   "metadata": {
    "id": "uSNzdK3ENGB3",
    "ExecuteTime": {
     "end_time": "2025-05-17T13:00:24.294546Z",
     "start_time": "2025-05-17T13:00:21.907762Z"
    }
   },
   "source": [
    "from sklearn.feature_extraction.text import TfidfVectorizer\n",
    "\n",
    "tfidf_vec = TfidfVectorizer(tokenizer=custom_tokenizer).fit(train['OriginalTweet'])\n",
    "X = tfidf_vec.transform([train.iloc[9023]['OriginalTweet']])\n",
    "\n",
    "vector_df = pd.DataFrame(X.toarray(), columns=tfidf_vec.get_feature_names_out())\n",
    "vector_df.loc[:, (vector_df != 0).any(axis=0)]"
   ],
   "outputs": [
    {
     "name": "stderr",
     "output_type": "stream",
     "text": [
      "/opt/miniconda3/envs/omo/lib/python3.8/site-packages/sklearn/feature_extraction/text.py:525: UserWarning: The parameter 'token_pattern' will not be used since 'tokenizer' is not None'\n",
      "  warnings.warn(\n"
     ]
    },
    {
     "data": {
      "text/plain": [
       "   #coronavirusoutbreak  #covid2019  @skynews  brainless       ffs      food  \\\n",
       "0              0.225843    0.168252  0.310426   0.386764  0.324474  0.113289   \n",
       "\n",
       "     france      lets      nice       one     panic       ppl  queueing  \\\n",
       "0  0.320473  0.301211  0.254273  0.163067  0.147595  0.255006  0.354346   \n",
       "\n",
       "       show  \n",
       "0  0.244065  "
      ],
      "text/html": [
       "<div>\n",
       "<style scoped>\n",
       "    .dataframe tbody tr th:only-of-type {\n",
       "        vertical-align: middle;\n",
       "    }\n",
       "\n",
       "    .dataframe tbody tr th {\n",
       "        vertical-align: top;\n",
       "    }\n",
       "\n",
       "    .dataframe thead th {\n",
       "        text-align: right;\n",
       "    }\n",
       "</style>\n",
       "<table border=\"1\" class=\"dataframe\">\n",
       "  <thead>\n",
       "    <tr style=\"text-align: right;\">\n",
       "      <th></th>\n",
       "      <th>#coronavirusoutbreak</th>\n",
       "      <th>#covid2019</th>\n",
       "      <th>@skynews</th>\n",
       "      <th>brainless</th>\n",
       "      <th>ffs</th>\n",
       "      <th>food</th>\n",
       "      <th>france</th>\n",
       "      <th>lets</th>\n",
       "      <th>nice</th>\n",
       "      <th>one</th>\n",
       "      <th>panic</th>\n",
       "      <th>ppl</th>\n",
       "      <th>queueing</th>\n",
       "      <th>show</th>\n",
       "    </tr>\n",
       "  </thead>\n",
       "  <tbody>\n",
       "    <tr>\n",
       "      <th>0</th>\n",
       "      <td>0.225843</td>\n",
       "      <td>0.168252</td>\n",
       "      <td>0.310426</td>\n",
       "      <td>0.386764</td>\n",
       "      <td>0.324474</td>\n",
       "      <td>0.113289</td>\n",
       "      <td>0.320473</td>\n",
       "      <td>0.301211</td>\n",
       "      <td>0.254273</td>\n",
       "      <td>0.163067</td>\n",
       "      <td>0.147595</td>\n",
       "      <td>0.255006</td>\n",
       "      <td>0.354346</td>\n",
       "      <td>0.244065</td>\n",
       "    </tr>\n",
       "  </tbody>\n",
       "</table>\n",
       "</div>"
      ]
     },
     "execution_count": 75,
     "metadata": {},
     "output_type": "execute_result"
    }
   ],
   "execution_count": 75
  },
  {
   "cell_type": "markdown",
   "metadata": {
    "id": "NYao_UhqQADm"
   },
   "source": "**Ответ:** Да, так как учитывает частоту слова в тексте"
  },
  {
   "cell_type": "markdown",
   "metadata": {
    "id": "LGRJPqfWSesQ"
   },
   "source": [
    "Найдите какой-нибудь положительно окрашенный твитт, где TfidfVectorizer хорошо (полезно для определения окраски) выделяет важный токен, поясните пример.\n",
    "\n",
    "*Подсказка:* явно положительные твитты можно искать при помощи положительных слов (good, great, amazing и т. д.)"
   ]
  },
  {
   "cell_type": "code",
   "metadata": {
    "id": "bRbQ2CHiSuJI",
    "colab": {
     "base_uri": "https://localhost:8080/",
     "height": 53
    },
    "outputId": "c4b34a7d-1076-4e1e-ad5c-9466fd2097c2",
    "ExecuteTime": {
     "end_time": "2025-05-17T13:01:42.532324Z",
     "start_time": "2025-05-17T13:01:42.514579Z"
    }
   },
   "source": "train[train['OriginalTweet'].apply(lambda x: 'good' in x) & (train['Sentiment'] == 1)]",
   "outputs": [
    {
     "data": {
      "text/plain": [
       "       UserName  ScreenName               Location     TweetAt  \\\n",
       "21541     30079       75031                Unknown  02-04-2020   \n",
       "20314     28576       73528       New Delhi, India  27-03-2020   \n",
       "192        4035       48987          San Diego, CA  16-03-2020   \n",
       "5140      10048       55000            New Zealand  19-03-2020   \n",
       "19139     27090       72042                Unknown  25-03-2020   \n",
       "...         ...         ...                    ...         ...   \n",
       "19361     27366       72318                Unknown  26-03-2020   \n",
       "6250      11382       56334          Mumbai, India  19-03-2020   \n",
       "15997     23260       68212  sales@esmmagazine.com  24-03-2020   \n",
       "18819     26706       71658            Chicago, IL  25-03-2020   \n",
       "18430     26221       71173                Unknown  25-03-2020   \n",
       "\n",
       "                                           OriginalTweet  Sentiment  \n",
       "21541  To all my marketers friends, this is a very go...          1  \n",
       "20314  India on lockdown...I'm more worried by death ...          1  \n",
       "192    What's a good way to support grocery store, me...          1  \n",
       "5140   Countdown supermarket limiting some goods: You...          1  \n",
       "19139  @MorganRadford good segment!  BTW where did yo...          1  \n",
       "...                                                  ...        ...  \n",
       "19361  @jichiemin LetÃÂs hope it not #coronavirus ?...          1  \n",
       "6250   Respected Sir @narendramodi \\r\\r\\n\\r\\r\\nWe und...          1  \n",
       "15997  #Consumer goods giant @Unilever Plc said on Tu...          1  \n",
       "18819  Online grocery shopping? Here are some good ti...          1  \n",
       "18430  It's a shame more corporate Masters of the Uni...          1  \n",
       "\n",
       "[548 rows x 6 columns]"
      ],
      "text/html": [
       "<div>\n",
       "<style scoped>\n",
       "    .dataframe tbody tr th:only-of-type {\n",
       "        vertical-align: middle;\n",
       "    }\n",
       "\n",
       "    .dataframe tbody tr th {\n",
       "        vertical-align: top;\n",
       "    }\n",
       "\n",
       "    .dataframe thead th {\n",
       "        text-align: right;\n",
       "    }\n",
       "</style>\n",
       "<table border=\"1\" class=\"dataframe\">\n",
       "  <thead>\n",
       "    <tr style=\"text-align: right;\">\n",
       "      <th></th>\n",
       "      <th>UserName</th>\n",
       "      <th>ScreenName</th>\n",
       "      <th>Location</th>\n",
       "      <th>TweetAt</th>\n",
       "      <th>OriginalTweet</th>\n",
       "      <th>Sentiment</th>\n",
       "    </tr>\n",
       "  </thead>\n",
       "  <tbody>\n",
       "    <tr>\n",
       "      <th>21541</th>\n",
       "      <td>30079</td>\n",
       "      <td>75031</td>\n",
       "      <td>Unknown</td>\n",
       "      <td>02-04-2020</td>\n",
       "      <td>To all my marketers friends, this is a very go...</td>\n",
       "      <td>1</td>\n",
       "    </tr>\n",
       "    <tr>\n",
       "      <th>20314</th>\n",
       "      <td>28576</td>\n",
       "      <td>73528</td>\n",
       "      <td>New Delhi, India</td>\n",
       "      <td>27-03-2020</td>\n",
       "      <td>India on lockdown...I'm more worried by death ...</td>\n",
       "      <td>1</td>\n",
       "    </tr>\n",
       "    <tr>\n",
       "      <th>192</th>\n",
       "      <td>4035</td>\n",
       "      <td>48987</td>\n",
       "      <td>San Diego, CA</td>\n",
       "      <td>16-03-2020</td>\n",
       "      <td>What's a good way to support grocery store, me...</td>\n",
       "      <td>1</td>\n",
       "    </tr>\n",
       "    <tr>\n",
       "      <th>5140</th>\n",
       "      <td>10048</td>\n",
       "      <td>55000</td>\n",
       "      <td>New Zealand</td>\n",
       "      <td>19-03-2020</td>\n",
       "      <td>Countdown supermarket limiting some goods: You...</td>\n",
       "      <td>1</td>\n",
       "    </tr>\n",
       "    <tr>\n",
       "      <th>19139</th>\n",
       "      <td>27090</td>\n",
       "      <td>72042</td>\n",
       "      <td>Unknown</td>\n",
       "      <td>25-03-2020</td>\n",
       "      <td>@MorganRadford good segment!  BTW where did yo...</td>\n",
       "      <td>1</td>\n",
       "    </tr>\n",
       "    <tr>\n",
       "      <th>...</th>\n",
       "      <td>...</td>\n",
       "      <td>...</td>\n",
       "      <td>...</td>\n",
       "      <td>...</td>\n",
       "      <td>...</td>\n",
       "      <td>...</td>\n",
       "    </tr>\n",
       "    <tr>\n",
       "      <th>19361</th>\n",
       "      <td>27366</td>\n",
       "      <td>72318</td>\n",
       "      <td>Unknown</td>\n",
       "      <td>26-03-2020</td>\n",
       "      <td>@jichiemin LetÃÂs hope it not #coronavirus ?...</td>\n",
       "      <td>1</td>\n",
       "    </tr>\n",
       "    <tr>\n",
       "      <th>6250</th>\n",
       "      <td>11382</td>\n",
       "      <td>56334</td>\n",
       "      <td>Mumbai, India</td>\n",
       "      <td>19-03-2020</td>\n",
       "      <td>Respected Sir @narendramodi \\r\\r\\n\\r\\r\\nWe und...</td>\n",
       "      <td>1</td>\n",
       "    </tr>\n",
       "    <tr>\n",
       "      <th>15997</th>\n",
       "      <td>23260</td>\n",
       "      <td>68212</td>\n",
       "      <td>sales@esmmagazine.com</td>\n",
       "      <td>24-03-2020</td>\n",
       "      <td>#Consumer goods giant @Unilever Plc said on Tu...</td>\n",
       "      <td>1</td>\n",
       "    </tr>\n",
       "    <tr>\n",
       "      <th>18819</th>\n",
       "      <td>26706</td>\n",
       "      <td>71658</td>\n",
       "      <td>Chicago, IL</td>\n",
       "      <td>25-03-2020</td>\n",
       "      <td>Online grocery shopping? Here are some good ti...</td>\n",
       "      <td>1</td>\n",
       "    </tr>\n",
       "    <tr>\n",
       "      <th>18430</th>\n",
       "      <td>26221</td>\n",
       "      <td>71173</td>\n",
       "      <td>Unknown</td>\n",
       "      <td>25-03-2020</td>\n",
       "      <td>It's a shame more corporate Masters of the Uni...</td>\n",
       "      <td>1</td>\n",
       "    </tr>\n",
       "  </tbody>\n",
       "</table>\n",
       "<p>548 rows × 6 columns</p>\n",
       "</div>"
      ]
     },
     "execution_count": 78,
     "metadata": {},
     "output_type": "execute_result"
    }
   ],
   "execution_count": 78
  },
  {
   "cell_type": "code",
   "source": [
    "ind = 192\n",
    "X = tfidf_vec.transform([train.loc[ind]['OriginalTweet']])\n",
    "\n",
    "vector_df = pd.DataFrame(X.toarray(), columns=tfidf_vec.get_feature_names_out())\n",
    "vector_df.loc[:, (vector_df != 0).any(axis=0)]"
   ],
   "metadata": {
    "id": "jSjbKPCWk87K",
    "ExecuteTime": {
     "end_time": "2025-05-17T13:03:51.485729Z",
     "start_time": "2025-05-17T13:03:51.459811Z"
    }
   },
   "outputs": [
    {
     "data": {
      "text/plain": [
       "    #covid  #covid19  #covid2019       ...        19     along  everyone  \\\n",
       "0  0.16835  0.116181    0.152509  0.140907  0.080057  0.242477  0.166331   \n",
       "\n",
       "       good    great   grocery  ...      seem  something     staff     store  \\\n",
       "0  0.167761  0.18176  0.106495  ...  0.251257   0.205862  0.168827  0.103334   \n",
       "\n",
       "    support     think     time       way    what's     would  \n",
       "0  0.176718  0.171833  0.13965  0.173367  0.238981  0.164633  \n",
       "\n",
       "[1 rows x 28 columns]"
      ],
      "text/html": [
       "<div>\n",
       "<style scoped>\n",
       "    .dataframe tbody tr th:only-of-type {\n",
       "        vertical-align: middle;\n",
       "    }\n",
       "\n",
       "    .dataframe tbody tr th {\n",
       "        vertical-align: top;\n",
       "    }\n",
       "\n",
       "    .dataframe thead th {\n",
       "        text-align: right;\n",
       "    }\n",
       "</style>\n",
       "<table border=\"1\" class=\"dataframe\">\n",
       "  <thead>\n",
       "    <tr style=\"text-align: right;\">\n",
       "      <th></th>\n",
       "      <th>#covid</th>\n",
       "      <th>#covid19</th>\n",
       "      <th>#covid2019</th>\n",
       "      <th>...</th>\n",
       "      <th>19</th>\n",
       "      <th>along</th>\n",
       "      <th>everyone</th>\n",
       "      <th>good</th>\n",
       "      <th>great</th>\n",
       "      <th>grocery</th>\n",
       "      <th>...</th>\n",
       "      <th>seem</th>\n",
       "      <th>something</th>\n",
       "      <th>staff</th>\n",
       "      <th>store</th>\n",
       "      <th>support</th>\n",
       "      <th>think</th>\n",
       "      <th>time</th>\n",
       "      <th>way</th>\n",
       "      <th>what's</th>\n",
       "      <th>would</th>\n",
       "    </tr>\n",
       "  </thead>\n",
       "  <tbody>\n",
       "    <tr>\n",
       "      <th>0</th>\n",
       "      <td>0.16835</td>\n",
       "      <td>0.116181</td>\n",
       "      <td>0.152509</td>\n",
       "      <td>0.140907</td>\n",
       "      <td>0.080057</td>\n",
       "      <td>0.242477</td>\n",
       "      <td>0.166331</td>\n",
       "      <td>0.167761</td>\n",
       "      <td>0.18176</td>\n",
       "      <td>0.106495</td>\n",
       "      <td>...</td>\n",
       "      <td>0.251257</td>\n",
       "      <td>0.205862</td>\n",
       "      <td>0.168827</td>\n",
       "      <td>0.103334</td>\n",
       "      <td>0.176718</td>\n",
       "      <td>0.171833</td>\n",
       "      <td>0.13965</td>\n",
       "      <td>0.173367</td>\n",
       "      <td>0.238981</td>\n",
       "      <td>0.164633</td>\n",
       "    </tr>\n",
       "  </tbody>\n",
       "</table>\n",
       "<p>1 rows × 28 columns</p>\n",
       "</div>"
      ]
     },
     "execution_count": 81,
     "metadata": {},
     "output_type": "execute_result"
    }
   ],
   "execution_count": 81
  },
  {
   "cell_type": "markdown",
   "metadata": {
    "id": "JTv9ST2_U6NA"
   },
   "source": "**Ответ:** Выделяет good, great которые говорят о положительной окраске"
  },
  {
   "cell_type": "markdown",
   "metadata": {
    "id": "JVEuZm8BHms6"
   },
   "source": [
    "## Задание 4 Обучение первых моделей (1 балл)"
   ]
  },
  {
   "cell_type": "markdown",
   "metadata": {
    "id": "JADkO3sfXdOG"
   },
   "source": [
    "Примените оба векторайзера для получения матриц с признаками текстов.  Выделите целевую переменную."
   ]
  },
  {
   "cell_type": "code",
   "metadata": {
    "id": "DguoiXhCX2oN",
    "ExecuteTime": {
     "end_time": "2025-05-17T13:07:53.160016Z",
     "start_time": "2025-05-17T13:07:53.157028Z"
    }
   },
   "source": [
    "x_train = train['OriginalTweet']\n",
    "x_test = test['OriginalTweet']\n",
    "y_train = train['Sentiment']\n",
    "y_test = test['Sentiment']"
   ],
   "outputs": [],
   "execution_count": 83
  },
  {
   "cell_type": "markdown",
   "metadata": {
    "id": "_FX1KSOfYSx4"
   },
   "source": [
    "Обучите логистическую регрессию на векторах из обоих векторайзеров. Посчитайте долю правильных ответов на обучающих и тестовых данных. Какой векторайзер показал лучший результат? Что можно сказать о моделях?\n",
    "\n",
    "Используйте `sparse` матрицы (после векторизации), не превращайте их в `numpy.ndarray` или `pd.DataFrame` - может не хватить памяти."
   ]
  },
  {
   "cell_type": "code",
   "metadata": {
    "id": "-Tb3eh8UXJ6v",
    "ExecuteTime": {
     "end_time": "2025-05-17T13:07:59.838931Z",
     "start_time": "2025-05-17T13:07:53.965895Z"
    }
   },
   "source": [
    "from sklearn.linear_model import LogisticRegression\n",
    "from sklearn.metrics import accuracy_score\n",
    "\n",
    "count_vectorizer = CountVectorizer()\n",
    "tfidf_vectorizer = TfidfVectorizer()\n",
    "\n",
    "X_train_count = count_vectorizer.fit_transform(x_train)\n",
    "X_test_count = count_vectorizer.transform(x_test)\n",
    "\n",
    "X_train_tfidf = tfidf_vectorizer.fit_transform(x_train)\n",
    "X_test_tfidf = tfidf_vectorizer.transform(x_test)\n",
    "\n",
    "model_count = LogisticRegression(max_iter=1000)\n",
    "model_count.fit(X_train_count, y_train)\n",
    "\n",
    "model_tfidf = LogisticRegression(max_iter=1000)\n",
    "model_tfidf.fit(X_train_tfidf, y_train)\n",
    "\n",
    "\n",
    "train_pred_count = model_count.predict(X_train_count)\n",
    "test_pred_count = model_count.predict(X_test_count)\n",
    "\n",
    "count_train_acc = accuracy_score(y_train, train_pred_count)\n",
    "count_test_acc = accuracy_score(y_test, test_pred_count)\n",
    "\n",
    "train_pred_tfidf = model_tfidf.predict(X_train_tfidf)\n",
    "test_pred_tfidf = model_tfidf.predict(X_test_tfidf)\n",
    "\n",
    "tfidf_train_acc = accuracy_score(y_train, train_pred_tfidf)\n",
    "tfidf_test_acc = accuracy_score(y_test, test_pred_tfidf)\n",
    "\n",
    "print(f\"Count Vectorizer Train accuracy: {count_train_acc:.4f}, Test accuracy: {count_test_acc:.4f}\")\n",
    "print(f\"TfidfVectorizer Train accuracy: {tfidf_train_acc:.4f}, Test accuracy: {tfidf_test_acc:.4f}\")"
   ],
   "outputs": [
    {
     "name": "stdout",
     "output_type": "stream",
     "text": [
      "Count Vectorizer Train accuracy: 0.9870, Test accuracy: 0.8770\n",
      "TfidfVectorizer Train accuracy: 0.9196, Test accuracy: 0.8533\n"
     ]
    }
   ],
   "execution_count": 84
  },
  {
   "cell_type": "markdown",
   "metadata": {
    "id": "8y_wO7rCmv7K"
   },
   "source": "**Ответ:** Обе модели имеют очень высокую точность, но CountVectorizer проявил себя чуть лучше"
  },
  {
   "cell_type": "markdown",
   "metadata": {
    "id": "rSOR1i3mjrys"
   },
   "source": [
    "## Задание 5 Стемминг (0.5 балла)"
   ]
  },
  {
   "cell_type": "markdown",
   "metadata": {
    "id": "i6ONBWNPjuq-"
   },
   "source": [
    "Для уменьшения словаря можно использовать стемминг.\n",
    "\n",
    "Модифицируйте написанный токенайзер, добавив в него стемминг с использованием SnowballStemmer. Обучите Count- и Tfidf- векторайзеры. Как изменился размер словаря?"
   ]
  },
  {
   "cell_type": "code",
   "metadata": {
    "id": "oVfA2-iMkQBb",
    "ExecuteTime": {
     "end_time": "2025-05-17T13:13:04.731004Z",
     "start_time": "2025-05-17T13:13:04.727071Z"
    }
   },
   "source": [
    "from nltk.stem.snowball import SnowballStemmer\n",
    "\n",
    "def custom_stem_tokenizer(text):\n",
    "    \n",
    "    stemmer = SnowballStemmer(language='english')\n",
    "    filtered_tokens = []\n",
    "    text = text.lower()\n",
    "    tokens = tk.tokenize(text)\n",
    "\n",
    "    for token in tokens:\n",
    "        if not (token in stop_words or token in punctuation or (len(token) == 1 and ord(token) >= 128) or token.startswith('https://t.co')):\n",
    "            stemmed_token = stemmer.stem(token)\n",
    "            filtered_tokens.append(stemmed_token)\n",
    "\n",
    "    return filtered_tokens"
   ],
   "outputs": [],
   "execution_count": 87
  },
  {
   "cell_type": "code",
   "metadata": {
    "colab": {
     "base_uri": "https://localhost:8080/"
    },
    "id": "9QmrjYtqnlPd",
    "outputId": "cd91291d-9676-4611-9fc4-28afaed58963",
    "ExecuteTime": {
     "end_time": "2025-05-17T13:13:05.405594Z",
     "start_time": "2025-05-17T13:13:05.401447Z"
    }
   },
   "source": [
    "custom_stem_tokenizer(\n",
    "    'This is sample text!!!! @Sample_text I, \\x92\\x92 https://t.co/sample  #sampletext adding more words to check stemming')"
   ],
   "outputs": [
    {
     "data": {
      "text/plain": [
       "['sampl', 'text', '@sample_text', '#sampletext', 'ad', 'word', 'check', 'stem']"
      ]
     },
     "execution_count": 88,
     "metadata": {},
     "output_type": "execute_result"
    }
   ],
   "execution_count": 88
  },
  {
   "cell_type": "code",
   "metadata": {
    "colab": {
     "base_uri": "https://localhost:8080/"
    },
    "id": "zAvUTmaplzOS",
    "outputId": "566207fe-183b-4ed6-d333-f86f0cc9ae38",
    "ExecuteTime": {
     "end_time": "2025-05-17T13:14:37.502841Z",
     "start_time": "2025-05-17T13:14:27.680360Z"
    }
   },
   "source": [
    "cv = CountVectorizer(tokenizer=custom_stem_tokenizer).fit(train['OriginalTweet'])\n",
    "tfidf_vec = TfidfVectorizer(tokenizer=custom_stem_tokenizer).fit(train['OriginalTweet'])\n",
    "\n",
    "print(len(cv.vocabulary_))"
   ],
   "outputs": [
    {
     "name": "stderr",
     "output_type": "stream",
     "text": [
      "/opt/miniconda3/envs/omo/lib/python3.8/site-packages/sklearn/feature_extraction/text.py:525: UserWarning: The parameter 'token_pattern' will not be used since 'tokenizer' is not None'\n",
      "  warnings.warn(\n"
     ]
    },
    {
     "name": "stdout",
     "output_type": "stream",
     "text": [
      "36634\n"
     ]
    }
   ],
   "execution_count": 91
  },
  {
   "cell_type": "markdown",
   "metadata": {
    "id": "Oyzs5TaAoHP6"
   },
   "source": "**Ответ** Уменьшился еще сильнее"
  },
  {
   "cell_type": "markdown",
   "metadata": {
    "id": "1OkncHI8oRmd"
   },
   "source": [
    "Обучите логистическую регрессию с использованием обоих векторайзеров. Изменилось ли качество? Есть ли смысл применять стемминг?"
   ]
  },
  {
   "cell_type": "code",
   "metadata": {
    "id": "ykZJPphEoZ5W",
    "ExecuteTime": {
     "end_time": "2025-05-17T13:19:50.454279Z",
     "start_time": "2025-05-17T13:19:35.756618Z"
    }
   },
   "source": [
    "X_train_count = cv.transform(x_train)\n",
    "X_test_count = cv.transform(x_test)\n",
    "\n",
    "X_train_tfidf = tfidf_vec.transform(x_train)\n",
    "X_test_tfidf = tfidf_vec.transform(x_test)\n",
    "\n",
    "model_cv = LogisticRegression(max_iter=1000, random_state=42)\n",
    "model_cv.fit(X_train_count, y_train)\n",
    "\n",
    "y_train_pred_count = model_cv.predict(X_train_count)\n",
    "y_test_pred_count = model_cv.predict(X_test_count)\n",
    "\n",
    "train_accuracy_count = accuracy_score(y_train, y_train_pred_count)\n",
    "test_accuracy_count = accuracy_score(y_test, y_test_pred_count)\n",
    "\n",
    "model_tfidf = LogisticRegression(max_iter=1000, random_state=42)\n",
    "model_tfidf.fit(X_train_tfidf, y_train)\n",
    "\n",
    "y_train_pred_tfidf = model_tfidf.predict(X_train_tfidf)\n",
    "y_test_pred_tfidf = model_tfidf.predict(X_test_tfidf)\n",
    "\n",
    "train_accuracy_tfidf = accuracy_score(y_train, y_train_pred_tfidf)\n",
    "test_accuracy_tfidf = accuracy_score(y_test, y_test_pred_tfidf)\n",
    "\n",
    "print(f\"CountVectorizer Train accuracy: {train_accuracy_count:.4f} Test accuracy: {test_accuracy_count:.4f}\")\n",
    "print(f\"TfidfVectorizer Train accuracy: {train_accuracy_tfidf:.4f} Test accuracy: {test_accuracy_tfidf:.4f}\")"
   ],
   "outputs": [
    {
     "name": "stdout",
     "output_type": "stream",
     "text": [
      "CountVectorizer Train accuracy: 0.9718 Test accuracy: 0.8675\n",
      "TfidfVectorizer Train accuracy: 0.9163 Test accuracy: 0.8563\n"
     ]
    }
   ],
   "execution_count": 92
  },
  {
   "cell_type": "markdown",
   "metadata": {
    "id": "bCRlrODro0h8"
   },
   "source": "**Ответ:** Качество почти не изменилось"
  },
  {
   "cell_type": "markdown",
   "metadata": {
    "id": "hYWGQNEDqLC-"
   },
   "source": "## Задание  6 Работа с частотами (1.5 балла)"
  },
  {
   "cell_type": "markdown",
   "metadata": {
    "id": "8Hq-tl5mqUSn"
   },
   "source": [
    "Еще один способ уменьшить количество признаков - это использовать параметры min_df и max_df при построении векторайзера  эти параметры помогают ограничить требуемую частоту встречаемости токена в документах.\n",
    "\n",
    "По умолчанию берутся все токены, которые встретились хотя бы один раз.\n",
    "\n"
   ]
  },
  {
   "cell_type": "markdown",
   "metadata": {
    "id": "m1SiD4DE3WZ2"
   },
   "source": [
    "Подберите max_df такой, что размер словаря будет 36651 (на 1 меньше, чем было). Почему параметр получился такой большой/маленький?"
   ]
  },
  {
   "cell_type": "code",
   "source": [
    "cv_df = CountVectorizer(tokenizer=custom_stem_tokenizer,\n",
    "                        max_df=0.31\n",
    "                        ).fit(\n",
    "    x_train\n",
    ")\n",
    "print(len(cv_df.vocabulary_))"
   ],
   "metadata": {
    "colab": {
     "base_uri": "https://localhost:8080/"
    },
    "id": "o3YLb8PViExb",
    "outputId": "b6d67654-d232-4e11-a5ca-6f2145053e98",
    "ExecuteTime": {
     "end_time": "2025-05-17T13:24:20.397157Z",
     "start_time": "2025-05-17T13:24:15.417392Z"
    }
   },
   "outputs": [
    {
     "name": "stderr",
     "output_type": "stream",
     "text": [
      "/opt/miniconda3/envs/omo/lib/python3.8/site-packages/sklearn/feature_extraction/text.py:525: UserWarning: The parameter 'token_pattern' will not be used since 'tokenizer' is not None'\n",
      "  warnings.warn(\n"
     ]
    },
    {
     "name": "stdout",
     "output_type": "stream",
     "text": [
      "36633\n"
     ]
    }
   ],
   "execution_count": 94
  },
  {
   "cell_type": "markdown",
   "metadata": {
    "id": "UdZYoGZR4UsA"
   },
   "source": "**Ответ:** Значение довольно маленькое, тк много шума"
  },
  {
   "cell_type": "markdown",
   "metadata": {
    "id": "_gRIUaB1u32f"
   },
   "source": [
    "Подберите min_df (используйте дефолтное значение max_df) в CountVectorizer таким образом, чтобы размер словаря был 3700 токенов (при использовании токенайзера со стеммингом), а качество осталось таким же, как и было. Что можно сказать о результатах?"
   ]
  },
  {
   "cell_type": "code",
   "metadata": {
    "colab": {
     "base_uri": "https://localhost:8080/"
    },
    "id": "kSnMJkn9XmsT",
    "outputId": "e0d8eb21-e5d7-46b4-e1d1-4b1ae220e9a0",
    "ExecuteTime": {
     "end_time": "2025-05-17T13:26:47.054835Z",
     "start_time": "2025-05-17T13:26:42.267060Z"
    }
   },
   "source": [
    "cv_df = CountVectorizer(tokenizer=custom_stem_tokenizer,\n",
    "                        min_df=0.0004675\n",
    "                        ).fit(\n",
    "    x_train\n",
    ")\n",
    "print(len(cv_df.vocabulary_))"
   ],
   "outputs": [
    {
     "name": "stderr",
     "output_type": "stream",
     "text": [
      "/opt/miniconda3/envs/omo/lib/python3.8/site-packages/sklearn/feature_extraction/text.py:525: UserWarning: The parameter 'token_pattern' will not be used since 'tokenizer' is not None'\n",
      "  warnings.warn(\n"
     ]
    },
    {
     "name": "stdout",
     "output_type": "stream",
     "text": [
      "3687\n"
     ]
    }
   ],
   "execution_count": 98
  },
  {
   "cell_type": "markdown",
   "metadata": {
    "id": "3fGYpUIZx0fk"
   },
   "source": "**Ответ:** Значение маленькое"
  },
  {
   "cell_type": "markdown",
   "source": [
    "В предыдущих заданиях признаки не скалировались. Отскалируйте данные (при словаре размера 3.7 тысяч, векторизованные CountVectorizer), обучите логистическую регрессию, посмотрите качество и выведите `barplot`, содержащий по 10 токенов, с наибольшим по модулю положительными/отрицательными весами. Что можно сказать об этих токенах?"
   ],
   "metadata": {
    "id": "Gx_h_-inKbBl"
   }
  },
  {
   "cell_type": "code",
   "source": [
    "from sklearn.preprocessing import StandardScaler\n",
    "from sklearn.linear_model import LogisticRegression\n",
    "from sklearn.pipeline import make_pipeline\n",
    "import numpy as np\n",
    "import matplotlib.pyplot as plt\n",
    "import seaborn as sns\n",
    "\n",
    "X_train_count = cv_df.transform(x_train)\n",
    "X_test_count = cv_df.transform(x_test)\n",
    "\n",
    "pipeline = make_pipeline(\n",
    "    StandardScaler(with_mean=False),\n",
    "    LogisticRegression(max_iter=1000, random_state=42)\n",
    ")\n",
    "pipeline.fit(X_train_count, y_train)\n",
    "\n",
    "train_acc = pipeline.score(X_train_count, y_train)\n",
    "test_acc = pipeline.score(X_test_count, y_test)\n",
    "print(f\"Accuracy (train): {train_acc:.4f}\")\n",
    "print(f\"Accuracy (test): {test_acc:.4f}\")\n",
    "\n",
    "lr_model = pipeline.named_steps['logisticregression']\n",
    "weights = lr_model.coef_[0]\n",
    "feature_names = cv_df.get_feature_names_out()\n",
    "\n",
    "top_positive = np.argsort(weights)[-10:][::-1]\n",
    "top_negative = np.argsort(weights)[:10]\n",
    "\n",
    "plt.figure(figsize=(12, 6))\n",
    "\n",
    "plt.subplot(1, 2, 1)\n",
    "sns.barplot(\n",
    "    x=weights[top_positive],\n",
    "    y=feature_names[top_positive],\n",
    "    palette='Greens_r'\n",
    ")\n",
    "plt.title(\"Топ-10 положительных весов\")\n",
    "plt.xlabel(\"Weight\")\n",
    "\n",
    "plt.subplot(1, 2, 2)\n",
    "sns.barplot(\n",
    "    x=weights[top_negative],\n",
    "    y=feature_names[top_negative],\n",
    "    palette='Reds_r'\n",
    ")\n",
    "plt.title(\"Топ-10 отрицательных весов\")\n",
    "plt.xlabel(\"Weight\")\n",
    "\n",
    "plt.tight_layout()\n",
    "plt.show()"
   ],
   "metadata": {
    "id": "KBATXJX6LG9q",
    "ExecuteTime": {
     "end_time": "2025-05-17T13:32:45.615878Z",
     "start_time": "2025-05-17T13:32:38.159162Z"
    }
   },
   "outputs": [
    {
     "name": "stdout",
     "output_type": "stream",
     "text": [
      "Accuracy (train): 0.9413\n",
      "Accuracy (test): 0.8446\n"
     ]
    },
    {
     "name": "stderr",
     "output_type": "stream",
     "text": [
      "/var/folders/0y/g49_sx310b90y_dbbtzchfpc0000gn/T/ipykernel_60901/3885223186.py:32: FutureWarning: \n",
      "\n",
      "Passing `palette` without assigning `hue` is deprecated and will be removed in v0.14.0. Assign the `y` variable to `hue` and set `legend=False` for the same effect.\n",
      "\n",
      "  sns.barplot(\n",
      "/var/folders/0y/g49_sx310b90y_dbbtzchfpc0000gn/T/ipykernel_60901/3885223186.py:41: FutureWarning: \n",
      "\n",
      "Passing `palette` without assigning `hue` is deprecated and will be removed in v0.14.0. Assign the `y` variable to `hue` and set `legend=False` for the same effect.\n",
      "\n",
      "  sns.barplot(\n"
     ]
    },
    {
     "data": {
      "text/plain": [
       "<Figure size 1200x600 with 2 Axes>"
      ],
      "image/png": "[encoded data removed]"
     },
     "metadata": {},
     "output_type": "display_data"
    }
   ],
   "execution_count": 102
  },
  {
   "cell_type": "markdown",
   "source": "**Ответ:** Представленные токены действительно принято считать добрыми или плохими",
   "metadata": {
    "id": "ThcEfzY1LHET"
   }
  },
  {
   "cell_type": "markdown",
   "metadata": {
    "id": "ktJVOdrIHq7B"
   },
   "source": [
    "## Задание 7 Другие признаки (1.5 балла)"
   ]
  },
  {
   "cell_type": "markdown",
   "metadata": {
    "id": "Yt3jRCZ2H0Og"
   },
   "source": [
    "Мы были сконцентрированы на работе с текстами твиттов и не использовали другие признаки - имена пользователя, дату и местоположение"
   ]
  },
  {
   "cell_type": "markdown",
   "metadata": {
    "id": "52wjewCCo_di"
   },
   "source": [
    "Изучите признаки UserName и ScreenName. полезны ли они? Если полезны, то закодируйте их, добавьте к матрице с отскалированными признаками, обучите логистическую регрессию, замерьте качество."
   ]
  },
  {
   "cell_type": "code",
   "metadata": {
    "id": "63thouYZptj6",
    "ExecuteTime": {
     "end_time": "2025-05-17T20:24:27.885628Z",
     "start_time": "2025-05-17T20:24:27.875850Z"
    }
   },
   "source": [
    "from scipy.stats import pointbiserialr\n",
    "\n",
    "print(f\"Уникальных UserName: {train['UserName'].nunique()}, ScreenName: {train['ScreenName'].nunique()}\")\n",
    "user_corr = pointbiserialr(pd.factorize(train['UserName'])[0], train['Sentiment']).correlation\n",
    "screen_corr = pointbiserialr(pd.factorize(train['ScreenName'])[0], train['Sentiment']).correlation\n",
    "print(f\"Корреляция с тональностью: UserName={user_corr:.3f}, ScreenName={screen_corr:.3f}\")"
   ],
   "outputs": [
    {
     "name": "stdout",
     "output_type": "stream",
     "text": [
      "Уникальных UserName: 23410, ScreenName: 23410\n",
      "Корреляция с тональностью: UserName=-0.010, ScreenName=-0.010\n"
     ]
    }
   ],
   "execution_count": 107
  },
  {
   "cell_type": "markdown",
   "metadata": {
    "id": "r8_qR-gnpT3a"
   },
   "source": "**Ответ:** Значения имеют малую корреляцию с целевой переменной"
  },
  {
   "cell_type": "markdown",
   "metadata": {
    "id": "ythEcFSkt7y3"
   },
   "source": [
    "Изучите признак TweetAt в обучающей выборке: преобразуйте его к типу datetime и нарисуйте его гистограмму с разделением по цвету на основе целевой переменной. Полезен ли он? Если полезен, то закодируйте его, добавьте к матрице с отскалированными признаками, обучите логистическую регрессию, замерьте качество."
   ]
  },
  {
   "cell_type": "code",
   "source": [
    "df['TweetAt'] = pd.to_datetime(df['TweetAt'])\n",
    "plt.figure(figsize=(12, 6))\n",
    "\n",
    "sns.histplot(data=df, x='TweetAt', bins=60, alpha=0.5, hue='Sentiment', palette={1: 'green', 0: 'red'})\n",
    "    \n",
    "plt.legend(title='Sentiment')\n",
    "plt.title('Распределение твитов по дате')\n",
    "plt.xlabel('Дата')\n",
    "plt.ylabel('Количество твитов')\n",
    "plt.show()"
   ],
   "metadata": {
    "id": "Lxb_k0JLirNv",
    "ExecuteTime": {
     "end_time": "2025-05-17T20:29:22.075695Z",
     "start_time": "2025-05-17T20:29:21.845299Z"
    }
   },
   "outputs": [
    {
     "name": "stderr",
     "output_type": "stream",
     "text": [
      "No artists with labels found to put in legend.  Note that artists whose label start with an underscore are ignored when legend() is called with no argument.\n"
     ]
    },
    {
     "data": {
      "text/plain": [
       "<Figure size 1200x600 with 1 Axes>"
      ],
      "image/png": "[encoded data removed]"
     },
     "metadata": {},
     "output_type": "display_data"
    }
   ],
   "execution_count": 114
  },
  {
   "cell_type": "markdown",
   "metadata": {
    "id": "4IdLBdpQxM-G"
   },
   "source": [
    "**Ответ:** Все столбцы диаграммы имеют равное распределение положительных и негативных цветов, а значит дата не имеет большого влияния на целевую переменную\n",
    "\n"
   ]
  },
  {
   "cell_type": "markdown",
   "source": [
    "Поработайте с признаком Location в обучающей выборке. Сколько уникальных значений?"
   ],
   "metadata": {
    "id": "r2JtRPhNP6qx"
   }
  },
  {
   "cell_type": "code",
   "source": "train['ScreenName'].nunique()",
   "metadata": {
    "id": "xYQZQ1FRNpoe",
    "ExecuteTime": {
     "end_time": "2025-05-17T20:30:22.012403Z",
     "start_time": "2025-05-17T20:30:22.003415Z"
    }
   },
   "outputs": [
    {
     "data": {
      "text/plain": [
       "23410"
      ]
     },
     "execution_count": 115,
     "metadata": {},
     "output_type": "execute_result"
    }
   ],
   "execution_count": 115
  },
  {
   "cell_type": "markdown",
   "source": [
    "Постройте гистограмму топ-10 по популярности местоположений (исключая Unknown)"
   ],
   "metadata": {
    "id": "6k4JwpRTQISa"
   }
  },
  {
   "cell_type": "code",
   "source": [
    "location_counts = (train[train['Location'].notna() &\n",
    "                         (train['Location'] != 'Unknown')]\n",
    "                   ['Location']\n",
    "                   .value_counts()\n",
    "                   .nlargest(10))\n",
    "\n",
    "plt.figure(figsize=(12, 6))\n",
    "sns.barplot(x=location_counts.index, y=location_counts.values, palette='viridis')\n",
    "plt.title('Топ-10 популярных местоположений (исключая Unknown)')\n",
    "plt.xlabel('Количество твитов')\n",
    "plt.ylabel('Местоположение')\n",
    "plt.show()"
   ],
   "metadata": {
    "id": "J91YkhegJ0mz",
    "ExecuteTime": {
     "end_time": "2025-05-17T20:31:56.155233Z",
     "start_time": "2025-05-17T20:31:56.018057Z"
    }
   },
   "outputs": [
    {
     "name": "stderr",
     "output_type": "stream",
     "text": [
      "/var/folders/0y/g49_sx310b90y_dbbtzchfpc0000gn/T/ipykernel_60901/2054916123.py:8: FutureWarning: \n",
      "\n",
      "Passing `palette` without assigning `hue` is deprecated and will be removed in v0.14.0. Assign the `x` variable to `hue` and set `legend=False` for the same effect.\n",
      "\n",
      "  sns.barplot(x=location_counts.index, y=location_counts.values, palette='viridis')\n"
     ]
    },
    {
     "data": {
      "text/plain": [
       "<Figure size 1200x600 with 1 Axes>"
      ],
      "image/png": "[encoded data removed]"
     },
     "metadata": {},
     "output_type": "display_data"
    }
   ],
   "execution_count": 117
  },
  {
   "cell_type": "markdown",
   "source": [
    "Видно, что многие местоположения включают в себя более точное название места, чем другие (Например, у некоторых стоит London, UK; а у некоторых просто UK или United Kingdom).\n",
    "\n",
    "Создайте новый признак WiderLocation, который содержит самое широкое местоположение (например, из London, UK должно получиться UK). Сколько уникальных категорий теперь? Постройте аналогичную гистограмму."
   ],
   "metadata": {
    "id": "ZOsv3lODTfYB"
   }
  },
  {
   "cell_type": "code",
   "source": [
    "def get_wider_location(loc):\n",
    "    if pd.isna(loc) or loc == 'Unknown':\n",
    "        return None\n",
    "    parts = [p.strip() for p in str(loc).split(',')]\n",
    "    return parts[-1]\n",
    "\n",
    "train['WiderLocation'] = train['Location'].apply(get_wider_location)\n",
    "test['WiderLocation'] = test['Location'].apply(get_wider_location)\n",
    "\n",
    "print(f\"Уникальных широких местоположений: {train['WiderLocation'].nunique()}\")\n",
    "\n",
    "top_locations = (train[train['WiderLocation'].notna()]\n",
    "                 ['WiderLocation']\n",
    "                 .value_counts()\n",
    "                 .nlargest(10))\n",
    "\n",
    "plt.figure(figsize=(12, 6))\n",
    "sns.barplot(x=top_locations.values, y=top_locations.index, palette='rocket')\n",
    "plt.title('Топ-10 местоположений')\n",
    "plt.xlabel('Количество твитов')\n",
    "plt.ylabel('Местоположение')\n",
    "plt.show()"
   ],
   "metadata": {
    "id": "mSkow6acOMyD",
    "ExecuteTime": {
     "end_time": "2025-05-17T20:44:01.798776Z",
     "start_time": "2025-05-17T20:44:01.628997Z"
    }
   },
   "outputs": [
    {
     "name": "stdout",
     "output_type": "stream",
     "text": [
      "Уникальных широких местоположений: 4630\n"
     ]
    },
    {
     "name": "stderr",
     "output_type": "stream",
     "text": [
      "/var/folders/0y/g49_sx310b90y_dbbtzchfpc0000gn/T/ipykernel_60901/140002574.py:19: FutureWarning: \n",
      "\n",
      "Passing `palette` without assigning `hue` is deprecated and will be removed in v0.14.0. Assign the `y` variable to `hue` and set `legend=False` for the same effect.\n",
      "\n",
      "  sns.barplot(x=top_locations.values, y=top_locations.index, palette='rocket')\n"
     ]
    },
    {
     "data": {
      "text/plain": [
       "<Figure size 1200x600 with 1 Axes>"
      ],
      "image/png": "[encoded data removed]"
     },
     "metadata": {},
     "output_type": "display_data"
    }
   ],
   "execution_count": 125
  },
  {
   "cell_type": "markdown",
   "source": [
    "Закодируйте признак WiderLocation с помощью OHE таким образом, чтобы создались только столбцы для местоположений, которые встречаются более одного раза. Сколько таких значений?\n"
   ],
   "metadata": {
    "id": "cgyWrD2eVfff"
   }
  },
  {
   "cell_type": "code",
   "source": [
    "from sklearn.preprocessing import OneHotEncoder\n",
    "\n",
    "popular_locs = train['WiderLocation'].value_counts()[lambda x: x > 1].index\n",
    "encoder = OneHotEncoder(categories=[popular_locs], sparse_output=True, handle_unknown='ignore')\n",
    "location_ohe = encoder.fit_transform(train[['WiderLocation']].fillna('Unknown').values.reshape(-1, 1))\n",
    "test_ohe = encoder.transform(test[['WiderLocation']].fillna('Unknown').values.reshape(-1, 1))"
   ],
   "metadata": {
    "id": "SeJBfBWgPvg_",
    "ExecuteTime": {
     "end_time": "2025-05-17T20:44:26.111260Z",
     "start_time": "2025-05-17T20:44:26.088120Z"
    }
   },
   "outputs": [],
   "execution_count": 128
  },
  {
   "cell_type": "markdown",
   "source": [
    "Добавьте этот признак к матрице отскалированных текстовых признаков, обучите логистическую регрессию, замерьте качество. Как оно изменилось? Оказался ли признак полезным?\n",
    "\n",
    "\n",
    "*Подсказка:* используйте параметр `categories` в энкодере."
   ],
   "metadata": {
    "id": "ZyMX5kZuimPK"
   }
  },
  {
   "cell_type": "code",
   "source": [
    "from scipy.sparse import hstack\n",
    "\n",
    "\n",
    "tfidf = TfidfVectorizer(max_features=5000)\n",
    "X_text = tfidf.fit_transform(train['OriginalTweet'])\n",
    "\n",
    "X_combined = hstack([X_text, location_ohe])\n",
    "\n",
    "model = LogisticRegression(max_iter=1000)\n",
    "model.fit(X_combined, train['Sentiment'])\n",
    "\n",
    "test['WiderLocation'] = test['Location'].apply(get_wider_location)\n",
    "test_ohe = encoder.transform(test[['WiderLocation']])\n",
    "X_test_text = tfidf.transform(test['OriginalTweet'])\n",
    "X_test_combined = hstack([X_test_text, test_ohe])\n",
    "\n",
    "base_acc = accuracy_score(test['Sentiment'],\n",
    "                          LogisticRegression(max_iter=1000)\n",
    "                          .fit(X_text, train['Sentiment'])\n",
    "                          .predict(X_test_text))\n",
    "enhanced_acc = accuracy_score(test['Sentiment'], model.predict(X_test_combined))\n",
    "\n",
    "print(f\"Accuracy до добавления локаций: {base_acc:.4f}\")\n",
    "print(f\"Accuracy после добавления локаций: {enhanced_acc:.4f}\")"
   ],
   "metadata": {
    "id": "EO1jNPeeim7A",
    "ExecuteTime": {
     "end_time": "2025-05-17T20:45:29.014179Z",
     "start_time": "2025-05-17T20:45:28.265430Z"
    }
   },
   "outputs": [
    {
     "name": "stderr",
     "output_type": "stream",
     "text": [
      "/opt/miniconda3/envs/omo/lib/python3.8/site-packages/sklearn/base.py:457: UserWarning: X has feature names, but OneHotEncoder was fitted without feature names\n",
      "  warnings.warn(\n"
     ]
    },
    {
     "name": "stdout",
     "output_type": "stream",
     "text": [
      "Accuracy до добавления локаций: 0.8579\n",
      "Accuracy после добавления локаций: 0.8525\n"
     ]
    }
   ],
   "execution_count": 130
  },
  {
   "cell_type": "markdown",
   "source": "**Ответ:** Нет, признак оказался бесполезным",
   "metadata": {
    "id": "7dHsGlDRYUQt"
   }
  }
 ],
 "metadata": {
  "colab": {
   "provenance": []
  },
  "kernelspec": {
   "display_name": "Python 3 (ipykernel)",
   "name": "python3",
   "language": "python"
  },
  "language_info": {
   "name": "python"
  }
 },
 "nbformat": 4,
 "nbformat_minor": 0
}
